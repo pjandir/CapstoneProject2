{
 "cells": [
  {
   "cell_type": "code",
   "execution_count": 1,
   "metadata": {},
   "outputs": [],
   "source": [
    "#Import all libraries\n",
    "import os\n",
    "import time\n",
    "import csv\n",
    "import glob\n",
    "import numpy as np\n",
    "import pandas as pd\n",
    "import matplotlib.pyplot as plt\n",
    "import pickle\n",
    "import joblib\n",
    "import gzip\n",
    "import censusbatchgeocoder"
   ]
  },
  {
   "cell_type": "code",
   "execution_count": 2,
   "metadata": {},
   "outputs": [],
   "source": [
    "#Set some global options\n",
    "pd.set_option('max_colwidth', 100) #Its nice to see all columns\n"
   ]
  },
  {
   "cell_type": "markdown",
   "metadata": {},
   "source": [
    "-----------------------\n",
    "\n",
    "Let's start by reading in the 311 data, which as been downloaded locally as a CSV file."
   ]
  },
  {
   "cell_type": "code",
   "execution_count": 3,
   "metadata": {},
   "outputs": [
    {
     "name": "stderr",
     "output_type": "stream",
     "text": [
      "/Users/pjandir/anaconda2/lib/python2.7/site-packages/IPython/core/interactiveshell.py:2717: DtypeWarning: Columns (18) have mixed types. Specify dtype option on import or set low_memory=False.\n"
     ]
    },
    {
     "name": "stdout",
     "output_type": "stream",
     "text": [
      "<class 'pandas.core.frame.DataFrame'>\n",
      "RangeIndex: 2807867 entries, 0 to 2807866\n",
      "Data columns (total 19 columns):\n",
      "CaseID                 int64\n",
      "Opened                 object\n",
      "Closed                 object\n",
      "Updated                object\n",
      "Status                 object\n",
      "Status Notes           object\n",
      "Responsible Agency     object\n",
      "Category               object\n",
      "Request Type           object\n",
      "Request Details        object\n",
      "Address                object\n",
      "Supervisor District    float64\n",
      "Neighborhood           object\n",
      "Police District        object\n",
      "Latitude               float64\n",
      "Longitude              float64\n",
      "Point                  object\n",
      "Source                 object\n",
      "Media URL              object\n",
      "dtypes: float64(3), int64(1), object(15)\n",
      "memory usage: 407.0+ MB\n"
     ]
    }
   ],
   "source": [
    "df = pd.read_csv('data/311_sf.csv')\n",
    "df.info()"
   ]
  },
  {
   "cell_type": "code",
   "execution_count": 4,
   "metadata": {},
   "outputs": [
    {
     "data": {
      "text/html": [
       "<div>\n",
       "<table border=\"1\" class=\"dataframe\">\n",
       "  <thead>\n",
       "    <tr style=\"text-align: right;\">\n",
       "      <th></th>\n",
       "      <th>CaseID</th>\n",
       "      <th>Opened</th>\n",
       "      <th>Closed</th>\n",
       "      <th>Updated</th>\n",
       "      <th>Status</th>\n",
       "      <th>Status Notes</th>\n",
       "      <th>Responsible Agency</th>\n",
       "      <th>Category</th>\n",
       "      <th>Request Type</th>\n",
       "      <th>Request Details</th>\n",
       "      <th>Address</th>\n",
       "      <th>Supervisor District</th>\n",
       "      <th>Neighborhood</th>\n",
       "      <th>Police District</th>\n",
       "      <th>Latitude</th>\n",
       "      <th>Longitude</th>\n",
       "      <th>Point</th>\n",
       "      <th>Source</th>\n",
       "      <th>Media URL</th>\n",
       "    </tr>\n",
       "  </thead>\n",
       "  <tbody>\n",
       "    <tr>\n",
       "      <th>1763919</th>\n",
       "      <td>5415097</td>\n",
       "      <td>12/29/2015 07:34:28 PM</td>\n",
       "      <td>01/07/2016 09:57:50 AM</td>\n",
       "      <td>01/07/2016 09:57:50 AM</td>\n",
       "      <td>Closed</td>\n",
       "      <td>NaN</td>\n",
       "      <td>DPT SignShop Surveyed - Area 2 Queue</td>\n",
       "      <td>Sign Repair</td>\n",
       "      <td>Sign - Defaced</td>\n",
       "      <td>Other - Defaced; support - OK</td>\n",
       "      <td>2233 IRVING ST, SAN FRANCISCO, CA, 94122</td>\n",
       "      <td>4.0</td>\n",
       "      <td>Outer Sunset</td>\n",
       "      <td>TARAVAL</td>\n",
       "      <td>37.76329</td>\n",
       "      <td>-122.4821</td>\n",
       "      <td>(37.763206800612, -122.482059798538)</td>\n",
       "      <td>Mobile/Open311</td>\n",
       "      <td>http://mobile311.sfgov.org/media/san_francisco/report/photos/568350bcdf86e72091fea3c1/report.jpg</td>\n",
       "    </tr>\n",
       "    <tr>\n",
       "      <th>14898</th>\n",
       "      <td>312208</td>\n",
       "      <td>11/10/2008 07:40:55 PM</td>\n",
       "      <td>11/14/2008 02:06:57 PM</td>\n",
       "      <td>11/14/2008 02:06:57 PM</td>\n",
       "      <td>Closed</td>\n",
       "      <td>NaN</td>\n",
       "      <td>DPW Ops Queue</td>\n",
       "      <td>Graffiti</td>\n",
       "      <td>Graffiti on Building_commercial</td>\n",
       "      <td>Building_commercial - Offensive</td>\n",
       "      <td>1000 SUTTER ST, SAN FRANCISCO, CA, 94109</td>\n",
       "      <td>3.0</td>\n",
       "      <td>Lower Nob Hill</td>\n",
       "      <td>CENTRAL</td>\n",
       "      <td>37.78820</td>\n",
       "      <td>-122.4170</td>\n",
       "      <td>(37.7882, -122.417)</td>\n",
       "      <td>Phone</td>\n",
       "      <td>NaN</td>\n",
       "    </tr>\n",
       "    <tr>\n",
       "      <th>2112522</th>\n",
       "      <td>6414756</td>\n",
       "      <td>10/13/2016 08:10:06 AM</td>\n",
       "      <td>10/13/2016 11:33:11 AM</td>\n",
       "      <td>10/13/2016 11:33:11 AM</td>\n",
       "      <td>Closed</td>\n",
       "      <td>Pickup completed.</td>\n",
       "      <td>Recology_Abandoned</td>\n",
       "      <td>Encampments</td>\n",
       "      <td>Encampment items</td>\n",
       "      <td>Cart Pickup</td>\n",
       "      <td>345 4TH ST, SAN FRANCISCO, CA, 94107</td>\n",
       "      <td>6.0</td>\n",
       "      <td>South of Market</td>\n",
       "      <td>SOUTHERN</td>\n",
       "      <td>37.78160</td>\n",
       "      <td>-122.4004</td>\n",
       "      <td>(37.781606803713, -122.400361611379)</td>\n",
       "      <td>Phone</td>\n",
       "      <td>NaN</td>\n",
       "    </tr>\n",
       "    <tr>\n",
       "      <th>1616790</th>\n",
       "      <td>5007276</td>\n",
       "      <td>08/17/2015 03:03:24 PM</td>\n",
       "      <td>08/21/2015 01:54:36 AM</td>\n",
       "      <td>08/21/2015 01:54:36 AM</td>\n",
       "      <td>Closed</td>\n",
       "      <td>resolved: 10/98</td>\n",
       "      <td>DPW Ops Queue</td>\n",
       "      <td>Street and Sidewalk Cleaning</td>\n",
       "      <td>General Cleaning</td>\n",
       "      <td>Other Loose Garbage</td>\n",
       "      <td>501 BEALE ST, SAN FRANCISCO, CA, 94107</td>\n",
       "      <td>6.0</td>\n",
       "      <td>South Beach</td>\n",
       "      <td>SOUTHERN</td>\n",
       "      <td>37.78622</td>\n",
       "      <td>-122.3896</td>\n",
       "      <td>(37.7862, -122.39)</td>\n",
       "      <td>Phone</td>\n",
       "      <td>NaN</td>\n",
       "    </tr>\n",
       "    <tr>\n",
       "      <th>977597</th>\n",
       "      <td>2671819</td>\n",
       "      <td>08/02/2013 04:18:01 PM</td>\n",
       "      <td>08/02/2013 05:13:56 PM</td>\n",
       "      <td>08/02/2013 05:13:56 PM</td>\n",
       "      <td>Closed</td>\n",
       "      <td>work order made.</td>\n",
       "      <td>PUC - Water - G</td>\n",
       "      <td>Sewer Issues</td>\n",
       "      <td>Water_leak</td>\n",
       "      <td>Water_main</td>\n",
       "      <td>1127 CAROLINA ST, SAN FRANCISCO, CA, 94107</td>\n",
       "      <td>10.0</td>\n",
       "      <td>Potrero Hill</td>\n",
       "      <td>BAYVIEW</td>\n",
       "      <td>37.75416</td>\n",
       "      <td>-122.3994</td>\n",
       "      <td>(37.754162114357, -122.399437372939)</td>\n",
       "      <td>Phone</td>\n",
       "      <td>NaN</td>\n",
       "    </tr>\n",
       "    <tr>\n",
       "      <th>713821</th>\n",
       "      <td>1176650</td>\n",
       "      <td>07/28/2012 06:44:37 AM</td>\n",
       "      <td>07/30/2012 09:42:57 AM</td>\n",
       "      <td>07/30/2012 09:42:57 AM</td>\n",
       "      <td>Closed</td>\n",
       "      <td>ADMIN CLOSED</td>\n",
       "      <td>DPT Signal Queue</td>\n",
       "      <td>Damaged Property</td>\n",
       "      <td>Damaged Traffic_Signal</td>\n",
       "      <td>Traffic_Signal</td>\n",
       "      <td>Intersection of CESAR CHAVEZ ST and EVANS AVE</td>\n",
       "      <td>10.0</td>\n",
       "      <td>Produce Market</td>\n",
       "      <td>BAYVIEW</td>\n",
       "      <td>37.74968</td>\n",
       "      <td>-122.3973</td>\n",
       "      <td>(37.7496845826706, -122.397285555195)</td>\n",
       "      <td>Phone</td>\n",
       "      <td>NaN</td>\n",
       "    </tr>\n",
       "    <tr>\n",
       "      <th>861636</th>\n",
       "      <td>2057608</td>\n",
       "      <td>02/25/2013 01:08:05 PM</td>\n",
       "      <td>02/26/2013 11:06:19 AM</td>\n",
       "      <td>02/26/2013 11:06:19 AM</td>\n",
       "      <td>Closed</td>\n",
       "      <td>Spoke with Paul about the the small business exemption &amp; the $500 special tax credit for 2012.</td>\n",
       "      <td>Treasurer/Tax Collector - G</td>\n",
       "      <td>General Request - TT COLLECTOR</td>\n",
       "      <td>customer_callback</td>\n",
       "      <td>tt_collector - customer_callback</td>\n",
       "      <td>Not associated with a specific address</td>\n",
       "      <td>NaN</td>\n",
       "      <td>NaN</td>\n",
       "      <td>NaN</td>\n",
       "      <td>0.00000</td>\n",
       "      <td>0.0000</td>\n",
       "      <td>NaN</td>\n",
       "      <td>Phone</td>\n",
       "      <td>NaN</td>\n",
       "    </tr>\n",
       "    <tr>\n",
       "      <th>850014</th>\n",
       "      <td>1994947</td>\n",
       "      <td>02/08/2013 05:40:00 PM</td>\n",
       "      <td>02/11/2013 01:43:42 PM</td>\n",
       "      <td>02/11/2013 01:43:42 PM</td>\n",
       "      <td>Closed</td>\n",
       "      <td>psr 426711</td>\n",
       "      <td>SSP - MTA Feedback Queue</td>\n",
       "      <td>MUNI Feedback</td>\n",
       "      <td>MUNI  - Conduct_Discourteous_Insensitive_Inappropriate_Conduct</td>\n",
       "      <td>301_Discourtesy_to_Customer</td>\n",
       "      <td>Not associated with a specific address</td>\n",
       "      <td>NaN</td>\n",
       "      <td>NaN</td>\n",
       "      <td>NaN</td>\n",
       "      <td>0.00000</td>\n",
       "      <td>0.0000</td>\n",
       "      <td>NaN</td>\n",
       "      <td>Web</td>\n",
       "      <td>NaN</td>\n",
       "    </tr>\n",
       "    <tr>\n",
       "      <th>463228</th>\n",
       "      <td>825363</td>\n",
       "      <td>02/13/2011 02:51:45 PM</td>\n",
       "      <td>02/15/2011 03:06:12 PM</td>\n",
       "      <td>02/15/2011 03:06:12 PM</td>\n",
       "      <td>Closed</td>\n",
       "      <td>NaN</td>\n",
       "      <td>DPW Ops Queue</td>\n",
       "      <td>Street and Sidewalk Cleaning</td>\n",
       "      <td>General Cleaning</td>\n",
       "      <td>Other Loose Garbage</td>\n",
       "      <td>925 MISSION ST, SAN FRANCISCO, CA, 94103</td>\n",
       "      <td>6.0</td>\n",
       "      <td>South of Market</td>\n",
       "      <td>SOUTHERN</td>\n",
       "      <td>37.78230</td>\n",
       "      <td>-122.4068</td>\n",
       "      <td>(37.782302694111, -122.40675740677)</td>\n",
       "      <td>Phone</td>\n",
       "      <td>NaN</td>\n",
       "    </tr>\n",
       "    <tr>\n",
       "      <th>12442</th>\n",
       "      <td>316324</td>\n",
       "      <td>11/18/2008 11:49:23 AM</td>\n",
       "      <td>11/19/2008 06:06:59 AM</td>\n",
       "      <td>11/19/2008 06:06:59 AM</td>\n",
       "      <td>Closed</td>\n",
       "      <td>NaN</td>\n",
       "      <td>DPW Ops Queue</td>\n",
       "      <td>Street and Sidewalk Cleaning</td>\n",
       "      <td>General Cleaning</td>\n",
       "      <td>Other Loose Garbage</td>\n",
       "      <td>2632 MISSION ST, SAN FRANCISCO, CA, 94110</td>\n",
       "      <td>9.0</td>\n",
       "      <td>Mission</td>\n",
       "      <td>MISSION</td>\n",
       "      <td>37.75480</td>\n",
       "      <td>-122.4190</td>\n",
       "      <td>(37.7548, -122.419)</td>\n",
       "      <td>Phone</td>\n",
       "      <td>NaN</td>\n",
       "    </tr>\n",
       "  </tbody>\n",
       "</table>\n",
       "</div>"
      ],
      "text/plain": [
       "          CaseID                  Opened                  Closed  \\\n",
       "1763919  5415097  12/29/2015 07:34:28 PM  01/07/2016 09:57:50 AM   \n",
       "14898     312208  11/10/2008 07:40:55 PM  11/14/2008 02:06:57 PM   \n",
       "2112522  6414756  10/13/2016 08:10:06 AM  10/13/2016 11:33:11 AM   \n",
       "1616790  5007276  08/17/2015 03:03:24 PM  08/21/2015 01:54:36 AM   \n",
       "977597   2671819  08/02/2013 04:18:01 PM  08/02/2013 05:13:56 PM   \n",
       "713821   1176650  07/28/2012 06:44:37 AM  07/30/2012 09:42:57 AM   \n",
       "861636   2057608  02/25/2013 01:08:05 PM  02/26/2013 11:06:19 AM   \n",
       "850014   1994947  02/08/2013 05:40:00 PM  02/11/2013 01:43:42 PM   \n",
       "463228    825363  02/13/2011 02:51:45 PM  02/15/2011 03:06:12 PM   \n",
       "12442     316324  11/18/2008 11:49:23 AM  11/19/2008 06:06:59 AM   \n",
       "\n",
       "                        Updated  Status  \\\n",
       "1763919  01/07/2016 09:57:50 AM  Closed   \n",
       "14898    11/14/2008 02:06:57 PM  Closed   \n",
       "2112522  10/13/2016 11:33:11 AM  Closed   \n",
       "1616790  08/21/2015 01:54:36 AM  Closed   \n",
       "977597   08/02/2013 05:13:56 PM  Closed   \n",
       "713821   07/30/2012 09:42:57 AM  Closed   \n",
       "861636   02/26/2013 11:06:19 AM  Closed   \n",
       "850014   02/11/2013 01:43:42 PM  Closed   \n",
       "463228   02/15/2011 03:06:12 PM  Closed   \n",
       "12442    11/19/2008 06:06:59 AM  Closed   \n",
       "\n",
       "                                                                                           Status Notes  \\\n",
       "1763919                                                                                             NaN   \n",
       "14898                                                                                               NaN   \n",
       "2112522                                                                               Pickup completed.   \n",
       "1616790                                                                                 resolved: 10/98   \n",
       "977597                                                                                 work order made.   \n",
       "713821                                                                                     ADMIN CLOSED   \n",
       "861636   Spoke with Paul about the the small business exemption & the $500 special tax credit for 2012.   \n",
       "850014                                                                                       psr 426711   \n",
       "463228                                                                                              NaN   \n",
       "12442                                                                                               NaN   \n",
       "\n",
       "                           Responsible Agency                        Category  \\\n",
       "1763919  DPT SignShop Surveyed - Area 2 Queue                     Sign Repair   \n",
       "14898                           DPW Ops Queue                        Graffiti   \n",
       "2112522                    Recology_Abandoned                     Encampments   \n",
       "1616790                         DPW Ops Queue    Street and Sidewalk Cleaning   \n",
       "977597                        PUC - Water - G                    Sewer Issues   \n",
       "713821                       DPT Signal Queue                Damaged Property   \n",
       "861636            Treasurer/Tax Collector - G  General Request - TT COLLECTOR   \n",
       "850014               SSP - MTA Feedback Queue                   MUNI Feedback   \n",
       "463228                          DPW Ops Queue    Street and Sidewalk Cleaning   \n",
       "12442                           DPW Ops Queue    Street and Sidewalk Cleaning   \n",
       "\n",
       "                                                           Request Type  \\\n",
       "1763919                                                  Sign - Defaced   \n",
       "14898                                   Graffiti on Building_commercial   \n",
       "2112522                                                Encampment items   \n",
       "1616790                                                General Cleaning   \n",
       "977597                                                       Water_leak   \n",
       "713821                                           Damaged Traffic_Signal   \n",
       "861636                                                customer_callback   \n",
       "850014   MUNI  - Conduct_Discourteous_Insensitive_Inappropriate_Conduct   \n",
       "463228                                                 General Cleaning   \n",
       "12442                                                  General Cleaning   \n",
       "\n",
       "                          Request Details  \\\n",
       "1763919     Other - Defaced; support - OK   \n",
       "14898     Building_commercial - Offensive   \n",
       "2112522                       Cart Pickup   \n",
       "1616790               Other Loose Garbage   \n",
       "977597                         Water_main   \n",
       "713821                     Traffic_Signal   \n",
       "861636   tt_collector - customer_callback   \n",
       "850014        301_Discourtesy_to_Customer   \n",
       "463228                Other Loose Garbage   \n",
       "12442                 Other Loose Garbage   \n",
       "\n",
       "                                               Address  Supervisor District  \\\n",
       "1763919       2233 IRVING ST, SAN FRANCISCO, CA, 94122                  4.0   \n",
       "14898         1000 SUTTER ST, SAN FRANCISCO, CA, 94109                  3.0   \n",
       "2112522           345 4TH ST, SAN FRANCISCO, CA, 94107                  6.0   \n",
       "1616790         501 BEALE ST, SAN FRANCISCO, CA, 94107                  6.0   \n",
       "977597      1127 CAROLINA ST, SAN FRANCISCO, CA, 94107                 10.0   \n",
       "713821   Intersection of CESAR CHAVEZ ST and EVANS AVE                 10.0   \n",
       "861636          Not associated with a specific address                  NaN   \n",
       "850014          Not associated with a specific address                  NaN   \n",
       "463228        925 MISSION ST, SAN FRANCISCO, CA, 94103                  6.0   \n",
       "12442        2632 MISSION ST, SAN FRANCISCO, CA, 94110                  9.0   \n",
       "\n",
       "            Neighborhood Police District  Latitude  Longitude  \\\n",
       "1763919     Outer Sunset         TARAVAL  37.76329  -122.4821   \n",
       "14898     Lower Nob Hill         CENTRAL  37.78820  -122.4170   \n",
       "2112522  South of Market        SOUTHERN  37.78160  -122.4004   \n",
       "1616790      South Beach        SOUTHERN  37.78622  -122.3896   \n",
       "977597      Potrero Hill         BAYVIEW  37.75416  -122.3994   \n",
       "713821    Produce Market         BAYVIEW  37.74968  -122.3973   \n",
       "861636               NaN             NaN   0.00000     0.0000   \n",
       "850014               NaN             NaN   0.00000     0.0000   \n",
       "463228   South of Market        SOUTHERN  37.78230  -122.4068   \n",
       "12442            Mission         MISSION  37.75480  -122.4190   \n",
       "\n",
       "                                         Point          Source  \\\n",
       "1763919   (37.763206800612, -122.482059798538)  Mobile/Open311   \n",
       "14898                      (37.7882, -122.417)           Phone   \n",
       "2112522   (37.781606803713, -122.400361611379)           Phone   \n",
       "1616790                     (37.7862, -122.39)           Phone   \n",
       "977597    (37.754162114357, -122.399437372939)           Phone   \n",
       "713821   (37.7496845826706, -122.397285555195)           Phone   \n",
       "861636                                     NaN           Phone   \n",
       "850014                                     NaN             Web   \n",
       "463228     (37.782302694111, -122.40675740677)           Phone   \n",
       "12442                      (37.7548, -122.419)           Phone   \n",
       "\n",
       "                                                                                                Media URL  \n",
       "1763919  http://mobile311.sfgov.org/media/san_francisco/report/photos/568350bcdf86e72091fea3c1/report.jpg  \n",
       "14898                                                                                                 NaN  \n",
       "2112522                                                                                               NaN  \n",
       "1616790                                                                                               NaN  \n",
       "977597                                                                                                NaN  \n",
       "713821                                                                                                NaN  \n",
       "861636                                                                                                NaN  \n",
       "850014                                                                                                NaN  \n",
       "463228                                                                                                NaN  \n",
       "12442                                                                                                 NaN  "
      ]
     },
     "execution_count": 4,
     "metadata": {},
     "output_type": "execute_result"
    }
   ],
   "source": [
    "df.sample(10)"
   ]
  },
  {
   "cell_type": "markdown",
   "metadata": {},
   "source": [
    "We see there is something going on with the 18th column, **Media URL**. Let's take a look at that column. "
   ]
  },
  {
   "cell_type": "code",
   "execution_count": 5,
   "metadata": {},
   "outputs": [
    {
     "data": {
      "text/plain": [
       "2740446                                                                                                    NaN\n",
       "894105                                                                                                     NaN\n",
       "2464408    http://mobile311.sfgov.org/media/san_francisco/report/photos/595f128f1ea5e5123537e43e/1499402856...\n",
       "1983351                                                                                                    NaN\n",
       "87873                                                                                                      NaN\n",
       "1122483                                                                                                    NaN\n",
       "2092736    http://mobile311.sfgov.org/media/san_francisco/report/photos/57eaf964df8624b637eb0e4d/photo_2016...\n",
       "1309211                                                                                                    NaN\n",
       "561781                                                                                                     NaN\n",
       "1748083                                                                                                    NaN\n",
       "Name: Media URL, dtype: object"
      ]
     },
     "execution_count": 5,
     "metadata": {},
     "output_type": "execute_result"
    }
   ],
   "source": [
    "df['Media URL'].sample(10, random_state=42)"
   ]
  },
  {
   "cell_type": "markdown",
   "metadata": {},
   "source": [
    "It seems this column shows any photo or media sent in alongside the request. We probably do not need to know the exact media attached to a request. Instead let's replace that feature with a column that records whether or not a request had media linked to it. So we reduce that information to a simply binary response. "
   ]
  },
  {
   "cell_type": "code",
   "execution_count": 6,
   "metadata": {},
   "outputs": [],
   "source": [
    "df['Has_Media_Link'] = np.where(df['Media URL'].isnull(), True, False)\n",
    "df.drop('Media URL', axis=1, inplace=True)"
   ]
  },
  {
   "cell_type": "markdown",
   "metadata": {},
   "source": [
    "Next, we know this is time series data so let's make sure the time features are seen as such by $pandas$."
   ]
  },
  {
   "cell_type": "code",
   "execution_count": 7,
   "metadata": {},
   "outputs": [],
   "source": [
    "df.Opened  = pd.to_datetime(df.Opened , format=\"%m/%d/%Y %H:%M:%S %p\")\n",
    "df.Closed  = pd.to_datetime(df.Closed , format=\"%m/%d/%Y %H:%M:%S %p\")\n",
    "df.Updated = pd.to_datetime(df.Updated, format=\"%m/%d/%Y %H:%M:%S %p\")"
   ]
  },
  {
   "cell_type": "markdown",
   "metadata": {},
   "source": [
    "We can check what time period this dataset covers. "
   ]
  },
  {
   "cell_type": "code",
   "execution_count": 8,
   "metadata": {},
   "outputs": [
    {
     "name": "stdout",
     "output_type": "stream",
     "text": [
      "2008-07-01 01:00:00\n",
      "2018-02-09 12:30:00\n"
     ]
    }
   ],
   "source": [
    "print(df.Opened.min())\n",
    "print(df.Opened.max())"
   ]
  },
  {
   "cell_type": "markdown",
   "metadata": {},
   "source": [
    "Nearly an entire decade is covered. How is it distributed through the years?"
   ]
  },
  {
   "cell_type": "code",
   "execution_count": 9,
   "metadata": {},
   "outputs": [
    {
     "data": {
      "text/plain": [
       "Opened\n",
       "2008-12-31     67873\n",
       "2009-12-31    173321\n",
       "2010-12-31    186205\n",
       "2011-12-31    195426\n",
       "2012-12-31    213212\n",
       "2013-12-31    287654\n",
       "2014-12-31    310974\n",
       "2015-12-31    346558\n",
       "2016-12-31    451905\n",
       "2017-12-31    512727\n",
       "2018-12-31     62012\n",
       "Freq: A-DEC, Name: CaseID, dtype: int64"
      ]
     },
     "execution_count": 9,
     "metadata": {},
     "output_type": "execute_result"
    }
   ],
   "source": [
    "df.set_index('Opened')['CaseID'].resample('A').count()"
   ]
  },
  {
   "cell_type": "markdown",
   "metadata": {},
   "source": [
    "Now, since we want to ultimately model the requests data, we will throw out the first partial year. Let's do that."
   ]
  },
  {
   "cell_type": "code",
   "execution_count": 10,
   "metadata": {},
   "outputs": [],
   "source": [
    "df = df[(df.Opened > '01/01/2009')]"
   ]
  },
  {
   "cell_type": "markdown",
   "metadata": {},
   "source": [
    "We also notice that there are lots of **Addresses** that are not known. Let's make those null values more obvious. "
   ]
  },
  {
   "cell_type": "code",
   "execution_count": 11,
   "metadata": {},
   "outputs": [
    {
     "name": "stdout",
     "output_type": "stream",
     "text": [
      "336264\n"
     ]
    }
   ],
   "source": [
    "print(len(df[df.Address == 'Not associated with a specific address']))\n",
    "df.Address.replace('Not associated with a specific address', np.nan, inplace=True)"
   ]
  },
  {
   "cell_type": "markdown",
   "metadata": {
    "collapsed": true
   },
   "source": [
    "Since we know there are null values in this data, let's quantify it. "
   ]
  },
  {
   "cell_type": "code",
   "execution_count": 12,
   "metadata": {},
   "outputs": [
    {
     "data": {
      "text/plain": [
       "CaseID                 0.000000\n",
       "Opened                 0.000000\n",
       "Closed                 0.036738\n",
       "Updated                0.000000\n",
       "Status                 0.000000\n",
       "Status Notes           0.274784\n",
       "Responsible Agency     0.000000\n",
       "Category               0.000000\n",
       "Request Type           0.000000\n",
       "Request Details        0.015084\n",
       "Address                0.122730\n",
       "Supervisor District    0.122787\n",
       "Neighborhood           0.157029\n",
       "Police District        0.123460\n",
       "Latitude               0.000000\n",
       "Longitude              0.000000\n",
       "Point                  0.122750\n",
       "Source                 0.000000\n",
       "Has_Media_Link         0.000000\n",
       "dtype: float64"
      ]
     },
     "execution_count": 12,
     "metadata": {},
     "output_type": "execute_result"
    }
   ],
   "source": [
    "df.isnull().sum()/len(df)"
   ]
  },
  {
   "cell_type": "markdown",
   "metadata": {},
   "source": [
    "Considering the size of the dataset, there are not all too many missing values. Let's start though by removing the rows, or requests, with no **Address**. Remember there are nearly 3 million rows in this dataset, and as we will find out later, we will need to pare down the dataset. So we can drop these rows. "
   ]
  },
  {
   "cell_type": "code",
   "execution_count": 13,
   "metadata": {},
   "outputs": [],
   "source": [
    "df = df[df.Address.notnull()]"
   ]
  },
  {
   "cell_type": "markdown",
   "metadata": {},
   "source": [
    "In addition to the actual **Address** of a request, we also have the **Latitude** and **Longitude**. We can plot these and hopefully see the outline of San Francisco. "
   ]
  },
  {
   "cell_type": "code",
   "execution_count": 14,
   "metadata": {},
   "outputs": [
    {
     "data": {
      "image/png": "[encoded data removed]",
      "text/plain": [
       "<matplotlib.figure.Figure at 0x160ee8210>"
      ]
     },
     "metadata": {},
     "output_type": "display_data"
    }
   ],
   "source": [
    "plt.scatter(df.Longitude, df.Latitude)\n",
    "plt.xlabel('Longitude')\n",
    "plt.ylabel('Latitude')\n",
    "plt.show()"
   ]
  },
  {
   "cell_type": "markdown",
   "metadata": {},
   "source": [
    "Interesting! There are some locations (well) outside San Francisco. In order to cut these rows out, we'll need a way to know what the outline of San Francisco is. We will do this by getting the locations of the designated US Census tracts for San Francisco. We can get the outline with a simple search through each tract. "
   ]
  },
  {
   "cell_type": "code",
   "execution_count": 15,
   "metadata": {},
   "outputs": [],
   "source": [
    "#Read in the geojson for SF\n",
    "census_geo = pd.read_json('data/Census_2010_Tracts.geojson')\n",
    "\n",
    "#Define the min/max values\n",
    "min_lat, max_lat = np.inf, -np.inf\n",
    "min_lon, max_lon = np.inf, -np.inf\n",
    "\n",
    "#Brute-force search\n",
    "for i in range(len(census_geo)):\n",
    "    array = census_geo.features[i]['geometry']['coordinates'][0][0]\n",
    "    for j in range(len(array)):\n",
    "        lon, lat = array[j]\n",
    "        if lat < min_lat:\n",
    "            min_lat = lat\n",
    "        if lat > max_lat:\n",
    "            max_lat = lat\n",
    "        if lon < min_lon:\n",
    "            min_lon = lon\n",
    "        if lon > max_lon:\n",
    "            max_lon = lon             "
   ]
  },
  {
   "cell_type": "code",
   "execution_count": 16,
   "metadata": {},
   "outputs": [
    {
     "data": {
      "text/html": [
       "<div>\n",
       "<table border=\"1\" class=\"dataframe\">\n",
       "  <thead>\n",
       "    <tr style=\"text-align: right;\">\n",
       "      <th></th>\n",
       "      <th>Maximum</th>\n",
       "      <th>Minimum</th>\n",
       "    </tr>\n",
       "  </thead>\n",
       "  <tbody>\n",
       "    <tr>\n",
       "      <th>Latitude</th>\n",
       "      <td>37.929824</td>\n",
       "      <td>37.639830</td>\n",
       "    </tr>\n",
       "    <tr>\n",
       "      <th>Longitude</th>\n",
       "      <td>-122.281780</td>\n",
       "      <td>-123.173825</td>\n",
       "    </tr>\n",
       "  </tbody>\n",
       "</table>\n",
       "</div>"
      ],
      "text/plain": [
       "              Maximum     Minimum\n",
       "Latitude    37.929824   37.639830\n",
       "Longitude -122.281780 -123.173825"
      ]
     },
     "execution_count": 16,
     "metadata": {},
     "output_type": "execute_result"
    }
   ],
   "source": [
    "pd.DataFrame({'Minimum': [min_lat, min_lon], 'Maximum': [max_lat, max_lon]}, index=['Latitude','Longitude'])"
   ]
  },
  {
   "cell_type": "markdown",
   "metadata": {},
   "source": [
    "Now, let's make sure all our rows reside within these boundaries. "
   ]
  },
  {
   "cell_type": "code",
   "execution_count": 17,
   "metadata": {},
   "outputs": [],
   "source": [
    "df = df[(((df.Longitude > min_lon) & (df.Longitude < max_lon)) & \\\n",
    "         ((df.Latitude  > min_lat) & (df.Latitude  < max_lat)))]"
   ]
  },
  {
   "cell_type": "markdown",
   "metadata": {},
   "source": [
    "Now, we can re-plot it and check out an outline of San Francisco. "
   ]
  },
  {
   "cell_type": "code",
   "execution_count": 18,
   "metadata": {},
   "outputs": [
    {
     "data": {
      "image/png": "[encoded data removed]",
      "text/plain": [
       "<matplotlib.figure.Figure at 0x15cd61390>"
      ]
     },
     "metadata": {},
     "output_type": "display_data"
    }
   ],
   "source": [
    "plt.figure(figsize=(10,10))\n",
    "plt.scatter(df.Longitude, df.Latitude, alpha=0.2, s=0.4)\n",
    "plt.axis('off')\n",
    "plt.show()"
   ]
  },
  {
   "cell_type": "markdown",
   "metadata": {},
   "source": [
    "Awesome! So we see a nice outline of the city, including Golden Gate Park (the sparse bar in the upper left). Moving on, we can check how much of our dataset remains. "
   ]
  },
  {
   "cell_type": "code",
   "execution_count": 19,
   "metadata": {},
   "outputs": [
    {
     "data": {
      "text/plain": [
       "2403628"
      ]
     },
     "execution_count": 19,
     "metadata": {},
     "output_type": "execute_result"
    }
   ],
   "source": [
    "len(df)"
   ]
  },
  {
   "cell_type": "markdown",
   "metadata": {},
   "source": [
    "So, we still have 2.4 million requests. The issue now is connecting each record with the US Census tract it originated from. The US Census provides an API which can return the Census Tract for a given address. The issue is that even with batch submission it takes around a half second for each given address. We can then estimate how long it would take to perform this task for the 2.4 million **Addresses** that we have."
   ]
  },
  {
   "cell_type": "code",
   "execution_count": 20,
   "metadata": {},
   "outputs": [
    {
     "data": {
      "text/plain": [
       "13.90988425925926"
      ]
     },
     "execution_count": 20,
     "metadata": {},
     "output_type": "execute_result"
    }
   ],
   "source": [
    "len(df)*0.5/(60*60*24) #Convert to days"
   ]
  },
  {
   "cell_type": "markdown",
   "metadata": {},
   "source": [
    "This would require nearly two full weeks! There might be alternate ways to do this, including potentially parallelizing the process, but in the interest of time we will have to cut down this dataset. We can start by limiting the number of **Categories** we are looking at. We can calculate what portion of the total data belongs to which **Categories**, cumulatively. "
   ]
  },
  {
   "cell_type": "code",
   "execution_count": 21,
   "metadata": {},
   "outputs": [
    {
     "data": {
      "text/plain": [
       "Street and Sidewalk Cleaning      0.307840\n",
       "Graffiti                          0.474699\n",
       "Abandoned Vehicle                 0.545376\n",
       "Homeless Concerns                 0.602736\n",
       "Encampments                       0.645724\n",
       "Damaged Property                  0.681868\n",
       "Sewer Issues                      0.711019\n",
       "Streetlights                      0.736243\n",
       "SFHA Requests                     0.761353\n",
       "Tree Maintenance                  0.785304\n",
       "Street Defects                    0.806045\n",
       "Litter Receptacles                0.824963\n",
       "Illegal Postings                  0.843626\n",
       "MUNI Feedback                     0.862195\n",
       "Rec and Park Requests             0.879490\n",
       "Sign Repair                       0.896128\n",
       "General Request - PUBLIC WORKS    0.912547\n",
       "Sidewalk or Curb                  0.926586\n",
       "General Request - MTA             0.937760\n",
       "Temporary Sign Request            0.946468\n",
       "Name: Category, dtype: float64"
      ]
     },
     "execution_count": 21,
     "metadata": {},
     "output_type": "execute_result"
    }
   ],
   "source": [
    "(np.cumsum(df.Category.value_counts())/len(df)).head(20)"
   ]
  },
  {
   "cell_type": "markdown",
   "metadata": {},
   "source": [
    "We can see that the top 8 **Categories** contain about ~74% of the total data. By dropping all other **Categories**, we can trim this dataset by over a quarter while keeping the most frequently requested services from the city. "
   ]
  },
  {
   "cell_type": "code",
   "execution_count": 22,
   "metadata": {},
   "outputs": [],
   "source": [
    "df = df[df.Category.isin(df.Category.value_counts()[:8].index)]"
   ]
  },
  {
   "cell_type": "markdown",
   "metadata": {},
   "source": [
    "The API we will use is relatively stringent on the input. It needs to have a numbered address. However, not all of our **Addresses** have this. Certain **Addresses** just have the intersection of two streets. Others in some way are not easily parsable. In both cases, we will drop these offending rows.  "
   ]
  },
  {
   "cell_type": "code",
   "execution_count": 23,
   "metadata": {},
   "outputs": [],
   "source": [
    "df = df[-df.Address.str.contains('Intersection')]\n",
    "df = df[df.Address.str.count(',') == 3]"
   ]
  },
  {
   "cell_type": "markdown",
   "metadata": {
    "collapsed": true
   },
   "source": [
    "Finally, let's take a look again at how the data is distributed through the years. "
   ]
  },
  {
   "cell_type": "code",
   "execution_count": 24,
   "metadata": {},
   "outputs": [
    {
     "data": {
      "text/plain": [
       "2009    0.054598\n",
       "2010    0.053372\n",
       "2011    0.058025\n",
       "2012    0.061889\n",
       "2013    0.081200\n",
       "2014    0.110463\n",
       "2015    0.132605\n",
       "2016    0.188293\n",
       "2017    0.229718\n",
       "2018    0.029838\n",
       "Name: Opened, dtype: float64"
      ]
     },
     "execution_count": 24,
     "metadata": {},
     "output_type": "execute_result"
    }
   ],
   "source": [
    "df.Opened.dt.year.value_counts().sort_index()/len(df)"
   ]
  },
  {
   "cell_type": "markdown",
   "metadata": {},
   "source": [
    "Overall we see the increasing trend through the years. To reduce the size even further, we will keep only the 2015, 2016, and 2017 data. This ensures a full three years of data, while reducing the size. "
   ]
  },
  {
   "cell_type": "code",
   "execution_count": 25,
   "metadata": {},
   "outputs": [],
   "source": [
    "df = df[(df.Opened > '01/01/2015') & (df.Opened < '01/01/2018')]"
   ]
  },
  {
   "cell_type": "code",
   "execution_count": 26,
   "metadata": {},
   "outputs": [
    {
     "data": {
      "text/plain": [
       "555345"
      ]
     },
     "execution_count": 26,
     "metadata": {},
     "output_type": "execute_result"
    }
   ],
   "source": [
    "len(df)"
   ]
  },
  {
   "cell_type": "markdown",
   "metadata": {},
   "source": [
    "Good, so now we have reduced our dataset to about a half million requests. This is much more manageable to grab the Census tract data we need. Let's now use the $censusbatchgeocoder$ library to translate (or geocode) our **Addresses** to **Tracts**. "
   ]
  },
  {
   "cell_type": "code",
   "execution_count": 27,
   "metadata": {},
   "outputs": [],
   "source": [
    "#Reset the index from all the row dropping\n",
    "df.reset_index(inplace=True, drop=True)"
   ]
  },
  {
   "cell_type": "code",
   "execution_count": 28,
   "metadata": {},
   "outputs": [],
   "source": [
    "#Batch limit is 10k\n",
    "batch_size = 9000\n",
    "\n",
    "#Loop over batch_size chunks of the dataset\n",
    "for i in range(int(len(df)/batch_size)+1):\n",
    "    \n",
    "    #Check to see if we already did this chunk\n",
    "    if os.path.exists('./data/geocoded_loc/geocode_%i.csv' % i):\n",
    "        continue\n",
    "    \n",
    "    #Get the correct rows to slice\n",
    "    lo = i*batch_size\n",
    "    hi = (i+1)*batch_size\n",
    "    if hi > len(df):\n",
    "        hi = len(df)-1\n",
    "        \n",
    "    #Slice the data for this chunk    \n",
    "    batch_df = pd.DataFrame(index=range(hi-lo), columns=['address','city','id','state','zipcode'])\n",
    "    batch_df.address = df[lo:hi].Address.str.split(',').str[0].values\n",
    "    batch_df.city    = df[lo:hi].Address.str.split(',').str[1].values\n",
    "    batch_df.id      = df[lo:hi].CaseID.values\n",
    "    batch_df.state   = df[lo:hi].Address.str.split(',').str[2].values\n",
    "    batch_df.zipcode = df[lo:hi].Address.str.split(',').str[3].values\n",
    "    \n",
    "    #Get the geocoded tracts; keep trying if the connection fails\n",
    "    start = time.time()\n",
    "    while True:\n",
    "        try:\n",
    "            batchres = censusbatchgeocoder.geocode(batch_df.to_dict('records'))\n",
    "            break\n",
    "        except csv.Error, e:\n",
    "            print('Uhoh - Loop %i: %s' % (i, e))\n",
    "\n",
    "    #Print out the time it took        \n",
    "    end = time.time()\n",
    "    delta = end - start\n",
    "    print('Loop #%i - %02d:%02d:%02d' % (i, delta//3600., delta//60., delta%60.))\n",
    "    \n",
    "    #Write out to file the success\n",
    "    batch_res = pd.DataFrame(batchres) \n",
    "    batch_res = batch_res[['id','geocoded_address','tract','block']]\n",
    "    batch_res.to_csv('./data/geocoded_loc/geocode_%i.csv' % i)"
   ]
  },
  {
   "cell_type": "markdown",
   "metadata": {},
   "source": [
    "Excellent! This process takes a while (3+ days), but only needs to be done once. Now that we have this done, we can switch gears a little and build the demographic data we have. This was obtained from the US Census' FactFinder [website](https://factfinder.census.gov/faces/nav/jsf/pages/searchresults.xhtml?refresh=t). Let's first load in the datasets and get the **Tract**. "
   ]
  },
  {
   "cell_type": "code",
   "execution_count": 29,
   "metadata": {},
   "outputs": [],
   "source": [
    "df_pov  = pd.read_csv('data/poverty.csv'      , header=1)\n",
    "df_inc  = pd.read_csv('data/median-income.csv', header=1)\n",
    "df_emp  = pd.read_csv('data/unemployment.csv' , header=1)\n",
    "df_dem1 = pd.read_csv('data/demographics1.csv', header=1)\n",
    "df_dem2 = pd.read_csv('data/demographics2.csv', header=1)\n",
    "\n",
    "df_pov ['Tract'] = df_pov .Geography.str.replace(',', '').str.split(' ').str.get(2)\n",
    "df_inc ['Tract'] = df_inc .Geography.str.replace(',', '').str.split(' ').str.get(2)\n",
    "df_emp ['Tract'] = df_emp .Geography.str.replace(',', '').str.split(' ').str.get(2)\n",
    "df_dem1['Tract'] = df_dem1.Geography.str.replace(',', '').str.split(' ').str.get(2)\n",
    "df_dem2['Tract'] = df_dem2.Geography.str.replace(',', '').str.split(' ').str.get(2)"
   ]
  },
  {
   "cell_type": "markdown",
   "metadata": {},
   "source": [
    "Now, we can keep only the relevant columns from each individual dataframe. The idea is to merge these dataframes together first and then combine with the 311 data later. "
   ]
  },
  {
   "cell_type": "code",
   "execution_count": 30,
   "metadata": {},
   "outputs": [],
   "source": [
    "df_tot = df_pov.copy()\n",
    "\n",
    "#Keep relevant columns only \n",
    "df_tot = df_tot[['Tract', 'All families  - Percent below poverty level; Estimate; Families']]\n",
    "\n",
    "df_inc = df_inc[[\n",
    "    'Tract', \n",
    "    'Estimate; INCOME AND BENEFITS (IN 2016 INFLATION-ADJUSTED DOLLARS) - Families - Median family income (dollars)'\n",
    "]]\n",
    "\n",
    "df_emp = df_emp[['Tract', 'Unemployment rate; Estimate; Population 16 years and over']]\n",
    "\n",
    "df_dem1 = df_dem1[[\n",
    "    'Tract',\n",
    "    'Estimate; SEX AND AGE - Total population',\n",
    "    'Percent; SEX AND AGE - Total population - Male',\n",
    "    'Estimate; SEX AND AGE - Under 5 years',\n",
    "    'Estimate; SEX AND AGE - 5 to 9 years',\n",
    "    'Estimate; SEX AND AGE - 10 to 14 years',\n",
    "    'Estimate; SEX AND AGE - 15 to 19 years',\n",
    "    'Estimate; SEX AND AGE - 20 to 24 years',\n",
    "    'Estimate; SEX AND AGE - 25 to 34 years',\n",
    "    'Estimate; SEX AND AGE - 35 to 44 years',\n",
    "    'Estimate; SEX AND AGE - 45 to 54 years',\n",
    "    'Estimate; SEX AND AGE - 55 to 59 years',\n",
    "    'Estimate; SEX AND AGE - 60 to 64 years',\n",
    "    'Estimate; SEX AND AGE - 65 to 74 years',\n",
    "    'Estimate; SEX AND AGE - 75 to 84 years',\n",
    "    'Estimate; SEX AND AGE - 85 years and over'\n",
    "]]\n",
    "\n",
    "df_dem2 = df_dem2[[\n",
    "    'Tract',\n",
    "    'Estimate; HISPANIC OR LATINO AND RACE - Total population - Hispanic or Latino (of any race)',\n",
    "    'Estimate; HISPANIC OR LATINO AND RACE - Total population - Not Hispanic or Latino - White alone',\n",
    "    'Estimate; HISPANIC OR LATINO AND RACE - Total population - Not Hispanic or Latino - Black or African American alone',\n",
    "    'Estimate; HISPANIC OR LATINO AND RACE - Total population - Not Hispanic or Latino - American Indian and Alaska Native alone',\n",
    "    'Estimate; HISPANIC OR LATINO AND RACE - Total population - Not Hispanic or Latino - Asian alone',\n",
    "    'Estimate; HISPANIC OR LATINO AND RACE - Total population - Not Hispanic or Latino - Native Hawaiian and Other Pacific Islander alone',\n",
    "    'Estimate; HISPANIC OR LATINO AND RACE - Total population - Not Hispanic or Latino - Some other race alone',\n",
    "    'Estimate; HISPANIC OR LATINO AND RACE - Total population - Not Hispanic or Latino - Two or more races'\n",
    "]]\n"
   ]
  },
  {
   "cell_type": "markdown",
   "metadata": {
    "collapsed": true
   },
   "source": [
    "Now, we can merge everything together."
   ]
  },
  {
   "cell_type": "code",
   "execution_count": 31,
   "metadata": {},
   "outputs": [],
   "source": [
    "df_tot = pd.merge(df_tot, df_inc, on='Tract', how='outer')\n",
    "df_tot = pd.merge(df_tot, df_emp, on='Tract', how='outer')\n",
    "df_tot = pd.merge(df_tot, df_dem1, on='Tract', how='outer')\n",
    "df_tot = pd.merge(df_tot, df_dem2, on='Tract', how='outer')"
   ]
  },
  {
   "cell_type": "markdown",
   "metadata": {},
   "source": [
    "We keep only the needed columns, again. "
   ]
  },
  {
   "cell_type": "code",
   "execution_count": 32,
   "metadata": {},
   "outputs": [],
   "source": [
    "df_tot.columns = [\n",
    "    'Tract',\n",
    "    'Poverty',\n",
    "    'Income',\n",
    "    'Unemployment',\n",
    "    'Population',\n",
    "    'Percent_Male',\n",
    "    'Population_5',\n",
    "    'Population_5_9',\n",
    "    'Population_10_14',\n",
    "    'Population_15_19',\n",
    "    'Population_20_24',\n",
    "    'Population_25_34',\n",
    "    'Population_35_44',\n",
    "    'Population_45_54',\n",
    "    'Population_55_59',\n",
    "    'Population_60_64',\n",
    "    'Population_65_74',\n",
    "    'Population_75_84',\n",
    "    'Population_85',\n",
    "    'Population_Hispanic',\n",
    "    'Population_White',\n",
    "    'Population_Black',\n",
    "    'Population_Am_Indian',\n",
    "    'Population_Asian',\n",
    "    'Population_Pac_Island',\n",
    "    'Population_Other1',\n",
    "    'Population_Other2'\n",
    "]"
   ]
  },
  {
   "cell_type": "markdown",
   "metadata": {},
   "source": [
    "The population count columns are (re-)created appropriately. "
   ]
  },
  {
   "cell_type": "code",
   "execution_count": 33,
   "metadata": {},
   "outputs": [],
   "source": [
    "#Total populations by age\n",
    "df_tot['Population_0_14']  = df_tot.Population_5     + df_tot.Population_5_9   + df_tot.Population_10_14\n",
    "df_tot['Population_15_24'] = df_tot.Population_15_19 + df_tot.Population_20_24\n",
    "df_tot['Population_25_64'] = df_tot.Population_25_34 + df_tot.Population_35_44 + df_tot.Population_45_54 + \\\n",
    "                             df_tot.Population_55_59 + df_tot.Population_60_64\n",
    "df_tot['Population_65_up'] = df_tot.Population_65_74 + df_tot.Population_75_84 + df_tot.Population_85\n",
    "\n",
    "#Total populations by race\n",
    "df_tot['Population_Other'] = df_tot.Population_Other1 + df_tot.Population_Other2 + df_tot.Population_Am_Indian\n",
    "df_tot['Population_Asian'] = df_tot.Population_Asian  + df_tot.Population_Pac_Island\n",
    "\n",
    "#Percent populations by age\n",
    "df_tot['Percent_Pop_0_14']  = df_tot.Population_0_14  / df_tot.Population\n",
    "df_tot['Percent_Pop_15_24'] = df_tot.Population_15_24 / df_tot.Population\n",
    "df_tot['Percent_Pop_25_64'] = df_tot.Population_25_64 / df_tot.Population\n",
    "df_tot['Percent_Pop_65_up'] = df_tot.Population_65_up / df_tot.Population\n",
    "\n",
    "#Percent populations by race\n",
    "df_tot['Percent_Pop_White']    = df_tot.Population_White    / df_tot.Population\n",
    "df_tot['Percent_Pop_Black']    = df_tot.Population_Black    / df_tot.Population\n",
    "df_tot['Percent_Pop_Hispanic'] = df_tot.Population_Hispanic / df_tot.Population\n",
    "df_tot['Percent_Pop_Asian']    = df_tot.Population_Asian    / df_tot.Population\n",
    "df_tot['Percent_Pop_Other']    = df_tot.Population_Other    / df_tot.Population"
   ]
  },
  {
   "cell_type": "markdown",
   "metadata": {},
   "source": [
    "We again only need some columns. "
   ]
  },
  {
   "cell_type": "code",
   "execution_count": 34,
   "metadata": {},
   "outputs": [],
   "source": [
    "df_tot = df_tot[[\n",
    "    'Tract',\n",
    "    'Poverty',\n",
    "    'Income',\n",
    "    'Unemployment',\n",
    "    'Population',\n",
    "    'Percent_Male',\n",
    "    'Percent_Pop_0_14',\n",
    "    'Percent_Pop_15_24',\n",
    "    'Percent_Pop_25_64',\n",
    "    'Percent_Pop_65_up',\n",
    "    'Percent_Pop_White',\n",
    "    'Percent_Pop_Black',\n",
    "    'Percent_Pop_Hispanic',\n",
    "    'Percent_Pop_Asian',\n",
    "    'Percent_Pop_Other'    \n",
    "]].copy()"
   ]
  },
  {
   "cell_type": "markdown",
   "metadata": {},
   "source": [
    "There is a little bit of cleaning of the dataset which we can do now as well. "
   ]
  },
  {
   "cell_type": "code",
   "execution_count": 35,
   "metadata": {},
   "outputs": [],
   "source": [
    "df_tot.Income = df_tot.Income.str.replace('+', '').str.replace(',', '')"
   ]
  },
  {
   "cell_type": "code",
   "execution_count": 36,
   "metadata": {},
   "outputs": [],
   "source": [
    "df_tot.replace('-', np.nan, inplace=True)"
   ]
  },
  {
   "cell_type": "code",
   "execution_count": 37,
   "metadata": {},
   "outputs": [],
   "source": [
    "df_tot[['Tract', 'Poverty', 'Income', 'Unemployment', 'Percent_Male']] = \\\n",
    "df_tot[['Tract','Poverty', 'Income', 'Unemployment', 'Percent_Male']].apply(pd.to_numeric)"
   ]
  },
  {
   "cell_type": "markdown",
   "metadata": {},
   "source": [
    "We can fill the small number of missing values as well here. "
   ]
  },
  {
   "cell_type": "code",
   "execution_count": 38,
   "metadata": {},
   "outputs": [],
   "source": [
    "df_tot[df_tot.Population==0] = df_tot[df_tot.Population==0].fillna(0)\n",
    "df_tot.Poverty.fillna(0, inplace=True)\n",
    "df_tot.Income.fillna(df_tot.Income.median(), inplace=True)"
   ]
  },
  {
   "cell_type": "code",
   "execution_count": 39,
   "metadata": {},
   "outputs": [
    {
     "name": "stdout",
     "output_type": "stream",
     "text": [
      "<class 'pandas.core.frame.DataFrame'>\n",
      "Int64Index: 197 entries, 0 to 196\n",
      "Data columns (total 15 columns):\n",
      "Tract                   197 non-null float64\n",
      "Poverty                 197 non-null float64\n",
      "Income                  197 non-null float64\n",
      "Unemployment            197 non-null float64\n",
      "Population              197 non-null int64\n",
      "Percent_Male            197 non-null float64\n",
      "Percent_Pop_0_14        197 non-null float64\n",
      "Percent_Pop_15_24       197 non-null float64\n",
      "Percent_Pop_25_64       197 non-null float64\n",
      "Percent_Pop_65_up       197 non-null float64\n",
      "Percent_Pop_White       197 non-null float64\n",
      "Percent_Pop_Black       197 non-null float64\n",
      "Percent_Pop_Hispanic    197 non-null float64\n",
      "Percent_Pop_Asian       197 non-null float64\n",
      "Percent_Pop_Other       197 non-null float64\n",
      "dtypes: float64(14), int64(1)\n",
      "memory usage: 24.6 KB\n"
     ]
    }
   ],
   "source": [
    "df_tot.info()"
   ]
  },
  {
   "cell_type": "markdown",
   "metadata": {},
   "source": [
    "All seems OK with this combined demographic data now."
   ]
  },
  {
   "cell_type": "code",
   "execution_count": 40,
   "metadata": {},
   "outputs": [
    {
     "data": {
      "text/html": [
       "<div>\n",
       "<table border=\"1\" class=\"dataframe\">\n",
       "  <thead>\n",
       "    <tr style=\"text-align: right;\">\n",
       "      <th></th>\n",
       "      <th>Tract</th>\n",
       "      <th>Poverty</th>\n",
       "      <th>Income</th>\n",
       "      <th>Unemployment</th>\n",
       "      <th>Population</th>\n",
       "      <th>Percent_Male</th>\n",
       "      <th>Percent_Pop_0_14</th>\n",
       "      <th>Percent_Pop_15_24</th>\n",
       "      <th>Percent_Pop_25_64</th>\n",
       "      <th>Percent_Pop_65_up</th>\n",
       "      <th>Percent_Pop_White</th>\n",
       "      <th>Percent_Pop_Black</th>\n",
       "      <th>Percent_Pop_Hispanic</th>\n",
       "      <th>Percent_Pop_Asian</th>\n",
       "      <th>Percent_Pop_Other</th>\n",
       "    </tr>\n",
       "  </thead>\n",
       "  <tbody>\n",
       "    <tr>\n",
       "      <th>190</th>\n",
       "      <td>9802.00</td>\n",
       "      <td>0.0</td>\n",
       "      <td>155250.0</td>\n",
       "      <td>10.2</td>\n",
       "      <td>320</td>\n",
       "      <td>73.8</td>\n",
       "      <td>0.015625</td>\n",
       "      <td>0.028125</td>\n",
       "      <td>0.500000</td>\n",
       "      <td>0.456250</td>\n",
       "      <td>0.559375</td>\n",
       "      <td>0.100000</td>\n",
       "      <td>0.050000</td>\n",
       "      <td>0.271875</td>\n",
       "      <td>0.018750</td>\n",
       "    </tr>\n",
       "    <tr>\n",
       "      <th>189</th>\n",
       "      <td>615.00</td>\n",
       "      <td>4.0</td>\n",
       "      <td>199766.0</td>\n",
       "      <td>4.4</td>\n",
       "      <td>13057</td>\n",
       "      <td>53.5</td>\n",
       "      <td>0.084782</td>\n",
       "      <td>0.068009</td>\n",
       "      <td>0.793750</td>\n",
       "      <td>0.053458</td>\n",
       "      <td>0.512062</td>\n",
       "      <td>0.012407</td>\n",
       "      <td>0.087309</td>\n",
       "      <td>0.360267</td>\n",
       "      <td>0.027954</td>\n",
       "    </tr>\n",
       "    <tr>\n",
       "      <th>64</th>\n",
       "      <td>176.01</td>\n",
       "      <td>15.0</td>\n",
       "      <td>53136.0</td>\n",
       "      <td>4.0</td>\n",
       "      <td>7834</td>\n",
       "      <td>58.3</td>\n",
       "      <td>0.091907</td>\n",
       "      <td>0.088588</td>\n",
       "      <td>0.692877</td>\n",
       "      <td>0.126628</td>\n",
       "      <td>0.273041</td>\n",
       "      <td>0.099566</td>\n",
       "      <td>0.124457</td>\n",
       "      <td>0.435282</td>\n",
       "      <td>0.067654</td>\n",
       "    </tr>\n",
       "    <tr>\n",
       "      <th>164</th>\n",
       "      <td>353.00</td>\n",
       "      <td>5.2</td>\n",
       "      <td>94271.0</td>\n",
       "      <td>7.3</td>\n",
       "      <td>7514</td>\n",
       "      <td>45.4</td>\n",
       "      <td>0.144663</td>\n",
       "      <td>0.110594</td>\n",
       "      <td>0.545515</td>\n",
       "      <td>0.199228</td>\n",
       "      <td>0.230237</td>\n",
       "      <td>0.007985</td>\n",
       "      <td>0.067873</td>\n",
       "      <td>0.651184</td>\n",
       "      <td>0.042720</td>\n",
       "    </tr>\n",
       "    <tr>\n",
       "      <th>138</th>\n",
       "      <td>306.00</td>\n",
       "      <td>1.1</td>\n",
       "      <td>186875.0</td>\n",
       "      <td>6.4</td>\n",
       "      <td>2424</td>\n",
       "      <td>51.7</td>\n",
       "      <td>0.209571</td>\n",
       "      <td>0.080446</td>\n",
       "      <td>0.518564</td>\n",
       "      <td>0.191419</td>\n",
       "      <td>0.518152</td>\n",
       "      <td>0.005776</td>\n",
       "      <td>0.132838</td>\n",
       "      <td>0.298680</td>\n",
       "      <td>0.044554</td>\n",
       "    </tr>\n",
       "    <tr>\n",
       "      <th>194</th>\n",
       "      <td>9806.00</td>\n",
       "      <td>39.0</td>\n",
       "      <td>105139.0</td>\n",
       "      <td>14.1</td>\n",
       "      <td>476</td>\n",
       "      <td>54.6</td>\n",
       "      <td>0.117647</td>\n",
       "      <td>0.113445</td>\n",
       "      <td>0.573529</td>\n",
       "      <td>0.195378</td>\n",
       "      <td>0.157563</td>\n",
       "      <td>0.506303</td>\n",
       "      <td>0.235294</td>\n",
       "      <td>0.092437</td>\n",
       "      <td>0.008403</td>\n",
       "    </tr>\n",
       "    <tr>\n",
       "      <th>65</th>\n",
       "      <td>177.00</td>\n",
       "      <td>9.6</td>\n",
       "      <td>106838.0</td>\n",
       "      <td>10.4</td>\n",
       "      <td>1791</td>\n",
       "      <td>61.4</td>\n",
       "      <td>0.083194</td>\n",
       "      <td>0.099386</td>\n",
       "      <td>0.740369</td>\n",
       "      <td>0.077052</td>\n",
       "      <td>0.396985</td>\n",
       "      <td>0.022892</td>\n",
       "      <td>0.326633</td>\n",
       "      <td>0.145170</td>\n",
       "      <td>0.108319</td>\n",
       "    </tr>\n",
       "    <tr>\n",
       "      <th>136</th>\n",
       "      <td>304.00</td>\n",
       "      <td>1.8</td>\n",
       "      <td>168203.0</td>\n",
       "      <td>5.7</td>\n",
       "      <td>5568</td>\n",
       "      <td>46.5</td>\n",
       "      <td>0.152838</td>\n",
       "      <td>0.117816</td>\n",
       "      <td>0.558549</td>\n",
       "      <td>0.170797</td>\n",
       "      <td>0.479346</td>\n",
       "      <td>0.025144</td>\n",
       "      <td>0.036099</td>\n",
       "      <td>0.385955</td>\n",
       "      <td>0.073455</td>\n",
       "    </tr>\n",
       "    <tr>\n",
       "      <th>178</th>\n",
       "      <td>478.02</td>\n",
       "      <td>3.5</td>\n",
       "      <td>82276.0</td>\n",
       "      <td>4.3</td>\n",
       "      <td>3937</td>\n",
       "      <td>47.1</td>\n",
       "      <td>0.136144</td>\n",
       "      <td>0.155194</td>\n",
       "      <td>0.574041</td>\n",
       "      <td>0.134620</td>\n",
       "      <td>0.317755</td>\n",
       "      <td>0.000000</td>\n",
       "      <td>0.097790</td>\n",
       "      <td>0.541275</td>\n",
       "      <td>0.043180</td>\n",
       "    </tr>\n",
       "    <tr>\n",
       "      <th>139</th>\n",
       "      <td>307.00</td>\n",
       "      <td>1.0</td>\n",
       "      <td>145882.0</td>\n",
       "      <td>3.0</td>\n",
       "      <td>6673</td>\n",
       "      <td>53.7</td>\n",
       "      <td>0.167241</td>\n",
       "      <td>0.037914</td>\n",
       "      <td>0.600629</td>\n",
       "      <td>0.194215</td>\n",
       "      <td>0.522703</td>\n",
       "      <td>0.012138</td>\n",
       "      <td>0.120486</td>\n",
       "      <td>0.281283</td>\n",
       "      <td>0.063390</td>\n",
       "    </tr>\n",
       "  </tbody>\n",
       "</table>\n",
       "</div>"
      ],
      "text/plain": [
       "       Tract  Poverty    Income  Unemployment  Population  Percent_Male  \\\n",
       "190  9802.00      0.0  155250.0          10.2         320          73.8   \n",
       "189   615.00      4.0  199766.0           4.4       13057          53.5   \n",
       "64    176.01     15.0   53136.0           4.0        7834          58.3   \n",
       "164   353.00      5.2   94271.0           7.3        7514          45.4   \n",
       "138   306.00      1.1  186875.0           6.4        2424          51.7   \n",
       "194  9806.00     39.0  105139.0          14.1         476          54.6   \n",
       "65    177.00      9.6  106838.0          10.4        1791          61.4   \n",
       "136   304.00      1.8  168203.0           5.7        5568          46.5   \n",
       "178   478.02      3.5   82276.0           4.3        3937          47.1   \n",
       "139   307.00      1.0  145882.0           3.0        6673          53.7   \n",
       "\n",
       "     Percent_Pop_0_14  Percent_Pop_15_24  Percent_Pop_25_64  \\\n",
       "190          0.015625           0.028125           0.500000   \n",
       "189          0.084782           0.068009           0.793750   \n",
       "64           0.091907           0.088588           0.692877   \n",
       "164          0.144663           0.110594           0.545515   \n",
       "138          0.209571           0.080446           0.518564   \n",
       "194          0.117647           0.113445           0.573529   \n",
       "65           0.083194           0.099386           0.740369   \n",
       "136          0.152838           0.117816           0.558549   \n",
       "178          0.136144           0.155194           0.574041   \n",
       "139          0.167241           0.037914           0.600629   \n",
       "\n",
       "     Percent_Pop_65_up  Percent_Pop_White  Percent_Pop_Black  \\\n",
       "190           0.456250           0.559375           0.100000   \n",
       "189           0.053458           0.512062           0.012407   \n",
       "64            0.126628           0.273041           0.099566   \n",
       "164           0.199228           0.230237           0.007985   \n",
       "138           0.191419           0.518152           0.005776   \n",
       "194           0.195378           0.157563           0.506303   \n",
       "65            0.077052           0.396985           0.022892   \n",
       "136           0.170797           0.479346           0.025144   \n",
       "178           0.134620           0.317755           0.000000   \n",
       "139           0.194215           0.522703           0.012138   \n",
       "\n",
       "     Percent_Pop_Hispanic  Percent_Pop_Asian  Percent_Pop_Other  \n",
       "190              0.050000           0.271875           0.018750  \n",
       "189              0.087309           0.360267           0.027954  \n",
       "64               0.124457           0.435282           0.067654  \n",
       "164              0.067873           0.651184           0.042720  \n",
       "138              0.132838           0.298680           0.044554  \n",
       "194              0.235294           0.092437           0.008403  \n",
       "65               0.326633           0.145170           0.108319  \n",
       "136              0.036099           0.385955           0.073455  \n",
       "178              0.097790           0.541275           0.043180  \n",
       "139              0.120486           0.281283           0.063390  "
      ]
     },
     "execution_count": 40,
     "metadata": {},
     "output_type": "execute_result"
    }
   ],
   "source": [
    "df_tot.sample(10)"
   ]
  },
  {
   "cell_type": "markdown",
   "metadata": {
    "collapsed": true
   },
   "source": [
    "Now we can turn our attention to the geocoded **Addresses** from before. We load them in and concatenate them into a single dataframe."
   ]
  },
  {
   "cell_type": "code",
   "execution_count": 41,
   "metadata": {},
   "outputs": [],
   "source": [
    "allFiles = glob.glob('./data/geocoded_loc/geocode_*.csv')\n",
    "\n",
    "dataframes = (pd.read_csv(f, index_col=None, dtype=object) for f in allFiles)\n",
    "df_geo = pd.concat(dataframes, ignore_index=True).drop('Unnamed: 0', axis=1)"
   ]
  },
  {
   "cell_type": "markdown",
   "metadata": {},
   "source": [
    "We can clean up this dataframe too. "
   ]
  },
  {
   "cell_type": "code",
   "execution_count": 42,
   "metadata": {},
   "outputs": [],
   "source": [
    "df_geo.columns = ['CaseID', 'Address', 'Tract', 'Block']\n",
    "\n",
    "df_geo['Tract'] = pd.to_numeric(df_geo.Tract)/100.\n",
    "df_geo[['CaseID', 'Block']] = df_geo[['CaseID', 'Block']].apply(pd.to_numeric)"
   ]
  },
  {
   "cell_type": "code",
   "execution_count": 43,
   "metadata": {},
   "outputs": [
    {
     "data": {
      "text/html": [
       "<div>\n",
       "<table border=\"1\" class=\"dataframe\">\n",
       "  <thead>\n",
       "    <tr style=\"text-align: right;\">\n",
       "      <th></th>\n",
       "      <th>CaseID</th>\n",
       "      <th>Address</th>\n",
       "      <th>Tract</th>\n",
       "      <th>Block</th>\n",
       "    </tr>\n",
       "  </thead>\n",
       "  <tbody>\n",
       "    <tr>\n",
       "      <th>420162</th>\n",
       "      <td>7479629</td>\n",
       "      <td>2719 16TH ST,  SAN FRANCISCO,  CA,  94103</td>\n",
       "      <td>177.00</td>\n",
       "      <td>2041.0</td>\n",
       "    </tr>\n",
       "    <tr>\n",
       "      <th>368026</th>\n",
       "      <td>7221632</td>\n",
       "      <td>149 BLUXOME ST,  SAN FRANCISCO,  CA,  94107</td>\n",
       "      <td>607.00</td>\n",
       "      <td>1065.0</td>\n",
       "    </tr>\n",
       "    <tr>\n",
       "      <th>58645</th>\n",
       "      <td>5292823</td>\n",
       "      <td>5200 MISSION ST,  SAN FRANCISCO,  CA,  94112</td>\n",
       "      <td>261.00</td>\n",
       "      <td>2024.0</td>\n",
       "    </tr>\n",
       "    <tr>\n",
       "      <th>70912</th>\n",
       "      <td>5485088</td>\n",
       "      <td>1460 WEBSTER ST,  SAN FRANCISCO,  CA,  94115</td>\n",
       "      <td>159.00</td>\n",
       "      <td>1003.0</td>\n",
       "    </tr>\n",
       "    <tr>\n",
       "      <th>266870</th>\n",
       "      <td>6556127</td>\n",
       "      <td>39 FELL ST,  SAN FRANCISCO,  CA,  94102</td>\n",
       "      <td>124.02</td>\n",
       "      <td>2017.0</td>\n",
       "    </tr>\n",
       "    <tr>\n",
       "      <th>420248</th>\n",
       "      <td>7480114</td>\n",
       "      <td>175 GILBERT ST,  SAN FRANCISCO,  CA,  94103</td>\n",
       "      <td>180.00</td>\n",
       "      <td>2018.0</td>\n",
       "    </tr>\n",
       "    <tr>\n",
       "      <th>534610</th>\n",
       "      <td>4930070</td>\n",
       "      <td>774 14TH ST,  SAN FRANCISCO,  CA,  94114</td>\n",
       "      <td>169.00</td>\n",
       "      <td>1002.0</td>\n",
       "    </tr>\n",
       "    <tr>\n",
       "      <th>208859</th>\n",
       "      <td>4589143</td>\n",
       "      <td>1234 LARKIN ST,  SAN FRANCISCO,  CA,  94109</td>\n",
       "      <td>111.00</td>\n",
       "      <td>3001.0</td>\n",
       "    </tr>\n",
       "    <tr>\n",
       "      <th>208888</th>\n",
       "      <td>4589388</td>\n",
       "      <td>751 MASON ST,  SAN FRANCISCO,  CA,  94108</td>\n",
       "      <td>119.02</td>\n",
       "      <td>1003.0</td>\n",
       "    </tr>\n",
       "    <tr>\n",
       "      <th>145258</th>\n",
       "      <td>5928917</td>\n",
       "      <td>1330 16TH ST,  SAN FRANCISCO,  CA,  94103</td>\n",
       "      <td>607.00</td>\n",
       "      <td>2019.0</td>\n",
       "    </tr>\n",
       "  </tbody>\n",
       "</table>\n",
       "</div>"
      ],
      "text/plain": [
       "         CaseID                                       Address   Tract   Block\n",
       "420162  7479629     2719 16TH ST,  SAN FRANCISCO,  CA,  94103  177.00  2041.0\n",
       "368026  7221632   149 BLUXOME ST,  SAN FRANCISCO,  CA,  94107  607.00  1065.0\n",
       "58645   5292823  5200 MISSION ST,  SAN FRANCISCO,  CA,  94112  261.00  2024.0\n",
       "70912   5485088  1460 WEBSTER ST,  SAN FRANCISCO,  CA,  94115  159.00  1003.0\n",
       "266870  6556127       39 FELL ST,  SAN FRANCISCO,  CA,  94102  124.02  2017.0\n",
       "420248  7480114   175 GILBERT ST,  SAN FRANCISCO,  CA,  94103  180.00  2018.0\n",
       "534610  4930070      774 14TH ST,  SAN FRANCISCO,  CA,  94114  169.00  1002.0\n",
       "208859  4589143   1234 LARKIN ST,  SAN FRANCISCO,  CA,  94109  111.00  3001.0\n",
       "208888  4589388     751 MASON ST,  SAN FRANCISCO,  CA,  94108  119.02  1003.0\n",
       "145258  5928917     1330 16TH ST,  SAN FRANCISCO,  CA,  94103  607.00  2019.0"
      ]
     },
     "execution_count": 43,
     "metadata": {},
     "output_type": "execute_result"
    }
   ],
   "source": [
    "df_geo.sample(10)"
   ]
  },
  {
   "cell_type": "markdown",
   "metadata": {
    "collapsed": true
   },
   "source": [
    "Now we can merge together the demographic dataframe with this one. "
   ]
  },
  {
   "cell_type": "code",
   "execution_count": 44,
   "metadata": {},
   "outputs": [
    {
     "data": {
      "text/html": [
       "<div>\n",
       "<table border=\"1\" class=\"dataframe\">\n",
       "  <thead>\n",
       "    <tr style=\"text-align: right;\">\n",
       "      <th></th>\n",
       "      <th>Tract</th>\n",
       "      <th>Poverty</th>\n",
       "      <th>Income</th>\n",
       "      <th>Unemployment</th>\n",
       "      <th>Population</th>\n",
       "      <th>Percent_Male</th>\n",
       "      <th>Percent_Pop_0_14</th>\n",
       "      <th>Percent_Pop_15_24</th>\n",
       "      <th>Percent_Pop_25_64</th>\n",
       "      <th>Percent_Pop_65_up</th>\n",
       "      <th>Percent_Pop_White</th>\n",
       "      <th>Percent_Pop_Black</th>\n",
       "      <th>Percent_Pop_Hispanic</th>\n",
       "      <th>Percent_Pop_Asian</th>\n",
       "      <th>Percent_Pop_Other</th>\n",
       "      <th>CaseID</th>\n",
       "      <th>Address</th>\n",
       "      <th>Block</th>\n",
       "    </tr>\n",
       "  </thead>\n",
       "  <tbody>\n",
       "    <tr>\n",
       "      <th>422470</th>\n",
       "      <td>301.01</td>\n",
       "      <td>0.0</td>\n",
       "      <td>121643.0</td>\n",
       "      <td>4.9</td>\n",
       "      <td>4936.0</td>\n",
       "      <td>51.3</td>\n",
       "      <td>0.079822</td>\n",
       "      <td>0.040721</td>\n",
       "      <td>0.792747</td>\n",
       "      <td>0.086710</td>\n",
       "      <td>0.589344</td>\n",
       "      <td>0.023298</td>\n",
       "      <td>0.092585</td>\n",
       "      <td>0.219611</td>\n",
       "      <td>0.075162</td>\n",
       "      <td>5240880.0</td>\n",
       "      <td>248 CARL ST,  SAN FRANCISCO,  CA,  94117</td>\n",
       "      <td>1000.0</td>\n",
       "    </tr>\n",
       "    <tr>\n",
       "      <th>267169</th>\n",
       "      <td>205.00</td>\n",
       "      <td>0.0</td>\n",
       "      <td>150179.0</td>\n",
       "      <td>3.2</td>\n",
       "      <td>2890.0</td>\n",
       "      <td>63.4</td>\n",
       "      <td>0.089965</td>\n",
       "      <td>0.029066</td>\n",
       "      <td>0.760900</td>\n",
       "      <td>0.120069</td>\n",
       "      <td>0.797924</td>\n",
       "      <td>0.020415</td>\n",
       "      <td>0.077509</td>\n",
       "      <td>0.071626</td>\n",
       "      <td>0.032526</td>\n",
       "      <td>6711215.0</td>\n",
       "      <td>2450 MARKET ST,  SAN FRANCISCO,  CA,  94114</td>\n",
       "      <td>1001.0</td>\n",
       "    </tr>\n",
       "    <tr>\n",
       "      <th>471706</th>\n",
       "      <td>352.02</td>\n",
       "      <td>6.4</td>\n",
       "      <td>87143.0</td>\n",
       "      <td>3.6</td>\n",
       "      <td>4650.0</td>\n",
       "      <td>49.6</td>\n",
       "      <td>0.124301</td>\n",
       "      <td>0.093978</td>\n",
       "      <td>0.657849</td>\n",
       "      <td>0.123871</td>\n",
       "      <td>0.416129</td>\n",
       "      <td>0.021935</td>\n",
       "      <td>0.066022</td>\n",
       "      <td>0.421935</td>\n",
       "      <td>0.073978</td>\n",
       "      <td>7355219.0</td>\n",
       "      <td>4055 JUDAH ST,  SAN FRANCISCO,  CA,  94122</td>\n",
       "      <td>3002.0</td>\n",
       "    </tr>\n",
       "    <tr>\n",
       "      <th>293374</th>\n",
       "      <td>208.00</td>\n",
       "      <td>4.2</td>\n",
       "      <td>67386.0</td>\n",
       "      <td>5.4</td>\n",
       "      <td>6292.0</td>\n",
       "      <td>60.7</td>\n",
       "      <td>0.073427</td>\n",
       "      <td>0.092339</td>\n",
       "      <td>0.724571</td>\n",
       "      <td>0.109663</td>\n",
       "      <td>0.334711</td>\n",
       "      <td>0.021456</td>\n",
       "      <td>0.421488</td>\n",
       "      <td>0.158137</td>\n",
       "      <td>0.064209</td>\n",
       "      <td>7103750.0</td>\n",
       "      <td>233 CAPP ST,  SAN FRANCISCO,  CA,  94110</td>\n",
       "      <td>1000.0</td>\n",
       "    </tr>\n",
       "    <tr>\n",
       "      <th>377360</th>\n",
       "      <td>253.00</td>\n",
       "      <td>8.2</td>\n",
       "      <td>124234.0</td>\n",
       "      <td>2.1</td>\n",
       "      <td>4349.0</td>\n",
       "      <td>53.5</td>\n",
       "      <td>0.129225</td>\n",
       "      <td>0.068292</td>\n",
       "      <td>0.699471</td>\n",
       "      <td>0.103012</td>\n",
       "      <td>0.540124</td>\n",
       "      <td>0.021384</td>\n",
       "      <td>0.249943</td>\n",
       "      <td>0.114739</td>\n",
       "      <td>0.073810</td>\n",
       "      <td>6184844.0</td>\n",
       "      <td>147 PROSPECT AVE,  SAN FRANCISCO,  CA,  94110</td>\n",
       "      <td>1008.0</td>\n",
       "    </tr>\n",
       "  </tbody>\n",
       "</table>\n",
       "</div>"
      ],
      "text/plain": [
       "         Tract  Poverty    Income  Unemployment  Population  Percent_Male  \\\n",
       "422470  301.01      0.0  121643.0           4.9      4936.0          51.3   \n",
       "267169  205.00      0.0  150179.0           3.2      2890.0          63.4   \n",
       "471706  352.02      6.4   87143.0           3.6      4650.0          49.6   \n",
       "293374  208.00      4.2   67386.0           5.4      6292.0          60.7   \n",
       "377360  253.00      8.2  124234.0           2.1      4349.0          53.5   \n",
       "\n",
       "        Percent_Pop_0_14  Percent_Pop_15_24  Percent_Pop_25_64  \\\n",
       "422470          0.079822           0.040721           0.792747   \n",
       "267169          0.089965           0.029066           0.760900   \n",
       "471706          0.124301           0.093978           0.657849   \n",
       "293374          0.073427           0.092339           0.724571   \n",
       "377360          0.129225           0.068292           0.699471   \n",
       "\n",
       "        Percent_Pop_65_up  Percent_Pop_White  Percent_Pop_Black  \\\n",
       "422470           0.086710           0.589344           0.023298   \n",
       "267169           0.120069           0.797924           0.020415   \n",
       "471706           0.123871           0.416129           0.021935   \n",
       "293374           0.109663           0.334711           0.021456   \n",
       "377360           0.103012           0.540124           0.021384   \n",
       "\n",
       "        Percent_Pop_Hispanic  Percent_Pop_Asian  Percent_Pop_Other     CaseID  \\\n",
       "422470              0.092585           0.219611           0.075162  5240880.0   \n",
       "267169              0.077509           0.071626           0.032526  6711215.0   \n",
       "471706              0.066022           0.421935           0.073978  7355219.0   \n",
       "293374              0.421488           0.158137           0.064209  7103750.0   \n",
       "377360              0.249943           0.114739           0.073810  6184844.0   \n",
       "\n",
       "                                              Address   Block  \n",
       "422470       248 CARL ST,  SAN FRANCISCO,  CA,  94117  1000.0  \n",
       "267169    2450 MARKET ST,  SAN FRANCISCO,  CA,  94114  1001.0  \n",
       "471706     4055 JUDAH ST,  SAN FRANCISCO,  CA,  94122  3002.0  \n",
       "293374       233 CAPP ST,  SAN FRANCISCO,  CA,  94110  1000.0  \n",
       "377360  147 PROSPECT AVE,  SAN FRANCISCO,  CA,  94110  1008.0  "
      ]
     },
     "execution_count": 44,
     "metadata": {},
     "output_type": "execute_result"
    }
   ],
   "source": [
    "df_cen = pd.merge(df_tot, df_geo, on='Tract', how='outer')\n",
    "df_cen.sample(5)"
   ]
  },
  {
   "cell_type": "markdown",
   "metadata": {
    "collapsed": true
   },
   "source": [
    "Finally, we merge back with the 311 data to create a single, cohesive dataframe. "
   ]
  },
  {
   "cell_type": "code",
   "execution_count": 45,
   "metadata": {},
   "outputs": [
    {
     "data": {
      "text/html": [
       "<div>\n",
       "<table border=\"1\" class=\"dataframe\">\n",
       "  <thead>\n",
       "    <tr style=\"text-align: right;\">\n",
       "      <th></th>\n",
       "      <th>CaseID</th>\n",
       "      <th>Opened</th>\n",
       "      <th>Closed</th>\n",
       "      <th>Updated</th>\n",
       "      <th>Status</th>\n",
       "      <th>Status Notes</th>\n",
       "      <th>Responsible Agency</th>\n",
       "      <th>Category</th>\n",
       "      <th>Request Type</th>\n",
       "      <th>Request Details</th>\n",
       "      <th>...</th>\n",
       "      <th>Percent_Pop_15_24</th>\n",
       "      <th>Percent_Pop_25_64</th>\n",
       "      <th>Percent_Pop_65_up</th>\n",
       "      <th>Percent_Pop_White</th>\n",
       "      <th>Percent_Pop_Black</th>\n",
       "      <th>Percent_Pop_Hispanic</th>\n",
       "      <th>Percent_Pop_Asian</th>\n",
       "      <th>Percent_Pop_Other</th>\n",
       "      <th>Address_y</th>\n",
       "      <th>Block</th>\n",
       "    </tr>\n",
       "  </thead>\n",
       "  <tbody>\n",
       "    <tr>\n",
       "      <th>145540</th>\n",
       "      <td>5502451</td>\n",
       "      <td>2016-01-25 09:01:16</td>\n",
       "      <td>2016-01-26 05:37:18</td>\n",
       "      <td>2016-01-26 05:37:18</td>\n",
       "      <td>Closed</td>\n",
       "      <td>NaN</td>\n",
       "      <td>Clear Channel - Transit Queue</td>\n",
       "      <td>Graffiti</td>\n",
       "      <td>Graffiti on Transit_Shelter_Platform</td>\n",
       "      <td>Transit_Shelter_Platform - Not_Offensive</td>\n",
       "      <td>...</td>\n",
       "      <td>0.104969</td>\n",
       "      <td>0.626087</td>\n",
       "      <td>0.154658</td>\n",
       "      <td>0.134783</td>\n",
       "      <td>0.006004</td>\n",
       "      <td>0.287785</td>\n",
       "      <td>0.551967</td>\n",
       "      <td>0.019462</td>\n",
       "      <td>1209 GENEVA AVE,  SAN FRANCISCO,  CA,  94112</td>\n",
       "      <td>1002.0</td>\n",
       "    </tr>\n",
       "    <tr>\n",
       "      <th>229197</th>\n",
       "      <td>6077757</td>\n",
       "      <td>2016-07-13 11:55:15</td>\n",
       "      <td>2016-08-09 01:10:46</td>\n",
       "      <td>2016-08-09 01:10:46</td>\n",
       "      <td>Closed</td>\n",
       "      <td>7/14/16 POSTED. RC</td>\n",
       "      <td>DPW Ops Queue</td>\n",
       "      <td>Graffiti</td>\n",
       "      <td>Graffiti on Other_enter_additional_details_below</td>\n",
       "      <td>Other_enter_additional_details_below - Offensive</td>\n",
       "      <td>...</td>\n",
       "      <td>0.090909</td>\n",
       "      <td>0.531370</td>\n",
       "      <td>0.269313</td>\n",
       "      <td>0.035425</td>\n",
       "      <td>0.005762</td>\n",
       "      <td>0.038412</td>\n",
       "      <td>0.911438</td>\n",
       "      <td>0.008963</td>\n",
       "      <td>131 WAVERLY PL,  SAN FRANCISCO,  CA,  94108</td>\n",
       "      <td>2007.0</td>\n",
       "    </tr>\n",
       "    <tr>\n",
       "      <th>39412</th>\n",
       "      <td>4681592</td>\n",
       "      <td>2015-04-20 06:26:45</td>\n",
       "      <td>2015-04-29 07:08:37</td>\n",
       "      <td>2015-04-29 07:08:37</td>\n",
       "      <td>Closed</td>\n",
       "      <td>4-28-15 @   1214 HRS #229</td>\n",
       "      <td>DPT Abandoned Vehicles Work Queue</td>\n",
       "      <td>Abandoned Vehicle</td>\n",
       "      <td>Abandoned Vehicles</td>\n",
       "      <td>DPT Abandoned Vehicles Low</td>\n",
       "      <td>...</td>\n",
       "      <td>0.107702</td>\n",
       "      <td>0.570999</td>\n",
       "      <td>0.223827</td>\n",
       "      <td>0.567389</td>\n",
       "      <td>0.037906</td>\n",
       "      <td>0.092659</td>\n",
       "      <td>0.222022</td>\n",
       "      <td>0.080024</td>\n",
       "      <td>6555 JOHN MUIR DR,  SAN FRANCISCO,  CA,  94132</td>\n",
       "      <td>1011.0</td>\n",
       "    </tr>\n",
       "    <tr>\n",
       "      <th>341604</th>\n",
       "      <td>6798247</td>\n",
       "      <td>2017-02-02 07:47:37</td>\n",
       "      <td>2017-02-05 11:30:16</td>\n",
       "      <td>2017-02-05 11:30:16</td>\n",
       "      <td>Closed</td>\n",
       "      <td>NaN</td>\n",
       "      <td>DPW Ops Queue</td>\n",
       "      <td>Homeless Concerns</td>\n",
       "      <td>Human Waste</td>\n",
       "      <td>Human Waste</td>\n",
       "      <td>...</td>\n",
       "      <td>0.072076</td>\n",
       "      <td>0.787273</td>\n",
       "      <td>0.078871</td>\n",
       "      <td>0.390651</td>\n",
       "      <td>0.132208</td>\n",
       "      <td>0.158979</td>\n",
       "      <td>0.221993</td>\n",
       "      <td>0.096170</td>\n",
       "      <td>1350 FOLSOM ST,  SAN FRANCISCO,  CA,  94103</td>\n",
       "      <td>2007.0</td>\n",
       "    </tr>\n",
       "    <tr>\n",
       "      <th>243114</th>\n",
       "      <td>6177431</td>\n",
       "      <td>2016-08-09 11:24:57</td>\n",
       "      <td>2016-08-11 08:32:41</td>\n",
       "      <td>2016-08-11 08:32:41</td>\n",
       "      <td>Closed</td>\n",
       "      <td>08/10/16  @ 0900       #85</td>\n",
       "      <td>DPT Abandoned Vehicles Work Queue</td>\n",
       "      <td>Abandoned Vehicle</td>\n",
       "      <td>Abandoned Vehicles</td>\n",
       "      <td>DPT Abandoned Vehicles Low</td>\n",
       "      <td>...</td>\n",
       "      <td>0.092407</td>\n",
       "      <td>0.611997</td>\n",
       "      <td>0.194542</td>\n",
       "      <td>0.449608</td>\n",
       "      <td>0.010538</td>\n",
       "      <td>0.049986</td>\n",
       "      <td>0.382059</td>\n",
       "      <td>0.107809</td>\n",
       "      <td>495 44TH AVE,  SAN FRANCISCO,  CA,  94121</td>\n",
       "      <td>1004.0</td>\n",
       "    </tr>\n",
       "  </tbody>\n",
       "</table>\n",
       "<p>5 rows × 36 columns</p>\n",
       "</div>"
      ],
      "text/plain": [
       "         CaseID              Opened              Closed             Updated  \\\n",
       "145540  5502451 2016-01-25 09:01:16 2016-01-26 05:37:18 2016-01-26 05:37:18   \n",
       "229197  6077757 2016-07-13 11:55:15 2016-08-09 01:10:46 2016-08-09 01:10:46   \n",
       "39412   4681592 2015-04-20 06:26:45 2015-04-29 07:08:37 2015-04-29 07:08:37   \n",
       "341604  6798247 2017-02-02 07:47:37 2017-02-05 11:30:16 2017-02-05 11:30:16   \n",
       "243114  6177431 2016-08-09 11:24:57 2016-08-11 08:32:41 2016-08-11 08:32:41   \n",
       "\n",
       "        Status                Status Notes                 Responsible Agency  \\\n",
       "145540  Closed                         NaN      Clear Channel - Transit Queue   \n",
       "229197  Closed          7/14/16 POSTED. RC                      DPW Ops Queue   \n",
       "39412   Closed   4-28-15 @   1214 HRS #229  DPT Abandoned Vehicles Work Queue   \n",
       "341604  Closed                         NaN                      DPW Ops Queue   \n",
       "243114  Closed  08/10/16  @ 0900       #85  DPT Abandoned Vehicles Work Queue   \n",
       "\n",
       "                 Category                                      Request Type  \\\n",
       "145540           Graffiti              Graffiti on Transit_Shelter_Platform   \n",
       "229197           Graffiti  Graffiti on Other_enter_additional_details_below   \n",
       "39412   Abandoned Vehicle                                Abandoned Vehicles   \n",
       "341604  Homeless Concerns                                       Human Waste   \n",
       "243114  Abandoned Vehicle                                Abandoned Vehicles   \n",
       "\n",
       "                                         Request Details   ...    \\\n",
       "145540          Transit_Shelter_Platform - Not_Offensive   ...     \n",
       "229197  Other_enter_additional_details_below - Offensive   ...     \n",
       "39412                         DPT Abandoned Vehicles Low   ...     \n",
       "341604                                       Human Waste   ...     \n",
       "243114                        DPT Abandoned Vehicles Low   ...     \n",
       "\n",
       "       Percent_Pop_15_24  Percent_Pop_25_64 Percent_Pop_65_up  \\\n",
       "145540          0.104969           0.626087          0.154658   \n",
       "229197          0.090909           0.531370          0.269313   \n",
       "39412           0.107702           0.570999          0.223827   \n",
       "341604          0.072076           0.787273          0.078871   \n",
       "243114          0.092407           0.611997          0.194542   \n",
       "\n",
       "       Percent_Pop_White  Percent_Pop_Black  Percent_Pop_Hispanic  \\\n",
       "145540          0.134783           0.006004              0.287785   \n",
       "229197          0.035425           0.005762              0.038412   \n",
       "39412           0.567389           0.037906              0.092659   \n",
       "341604          0.390651           0.132208              0.158979   \n",
       "243114          0.449608           0.010538              0.049986   \n",
       "\n",
       "       Percent_Pop_Asian Percent_Pop_Other  \\\n",
       "145540          0.551967          0.019462   \n",
       "229197          0.911438          0.008963   \n",
       "39412           0.222022          0.080024   \n",
       "341604          0.221993          0.096170   \n",
       "243114          0.382059          0.107809   \n",
       "\n",
       "                                             Address_y   Block  \n",
       "145540    1209 GENEVA AVE,  SAN FRANCISCO,  CA,  94112  1002.0  \n",
       "229197     131 WAVERLY PL,  SAN FRANCISCO,  CA,  94108  2007.0  \n",
       "39412   6555 JOHN MUIR DR,  SAN FRANCISCO,  CA,  94132  1011.0  \n",
       "341604     1350 FOLSOM ST,  SAN FRANCISCO,  CA,  94103  2007.0  \n",
       "243114       495 44TH AVE,  SAN FRANCISCO,  CA,  94121  1004.0  \n",
       "\n",
       "[5 rows x 36 columns]"
      ]
     },
     "execution_count": 45,
     "metadata": {},
     "output_type": "execute_result"
    }
   ],
   "source": [
    "df = pd.merge(df, df_cen, on=['CaseID'], how='left')\n",
    "df.sample(5)"
   ]
  },
  {
   "cell_type": "markdown",
   "metadata": {},
   "source": [
    "About 1% of the geocoded **Addresses** did not have an associated **Tract**, so those rows are also now dropped."
   ]
  },
  {
   "cell_type": "code",
   "execution_count": 46,
   "metadata": {},
   "outputs": [],
   "source": [
    "df = df[df.Tract.notnull()].copy()"
   ]
  },
  {
   "cell_type": "markdown",
   "metadata": {},
   "source": [
    "We can clean up the merged dataframe to get a fully cleaned dataset."
   ]
  },
  {
   "cell_type": "code",
   "execution_count": 47,
   "metadata": {},
   "outputs": [],
   "source": [
    "#Add feature for if request is closed or not\n",
    "df['Is_Closed'] = df['Status'].map({'Closed': True, 'Open': False})\n",
    "\n",
    "#Drop unnecessary columns and null rows\n",
    "df.drop(['CaseID', 'Updated', 'Closed', 'Status Notes', 'Request Details','Address_x', 'Request Type', \n",
    "         'Responsible Agency', 'Neighborhood', 'Address_y', 'Point', 'Block', 'Status'], \n",
    "        axis=1, inplace=True)\n",
    "df.dropna(how='any', inplace=True) #Drops several rows\n",
    "\n",
    "#Visual clean-up\n",
    "df.columns = df.columns.str.replace(' ', '_')\n",
    "df.reset_index(inplace=True, drop=True)"
   ]
  },
  {
   "cell_type": "code",
   "execution_count": 48,
   "metadata": {},
   "outputs": [
    {
     "name": "stdout",
     "output_type": "stream",
     "text": [
      "<class 'pandas.core.frame.DataFrame'>\n",
      "RangeIndex: 546126 entries, 0 to 546125\n",
      "Data columns (total 24 columns):\n",
      "Opened                  546126 non-null datetime64[ns]\n",
      "Category                546126 non-null object\n",
      "Supervisor_District     546126 non-null float64\n",
      "Police_District         546126 non-null object\n",
      "Latitude                546126 non-null float64\n",
      "Longitude               546126 non-null float64\n",
      "Source                  546126 non-null object\n",
      "Has_Media_Link          546126 non-null bool\n",
      "Tract                   546126 non-null float64\n",
      "Poverty                 546126 non-null float64\n",
      "Income                  546126 non-null float64\n",
      "Unemployment            546126 non-null float64\n",
      "Population              546126 non-null float64\n",
      "Percent_Male            546126 non-null float64\n",
      "Percent_Pop_0_14        546126 non-null float64\n",
      "Percent_Pop_15_24       546126 non-null float64\n",
      "Percent_Pop_25_64       546126 non-null float64\n",
      "Percent_Pop_65_up       546126 non-null float64\n",
      "Percent_Pop_White       546126 non-null float64\n",
      "Percent_Pop_Black       546126 non-null float64\n",
      "Percent_Pop_Hispanic    546126 non-null float64\n",
      "Percent_Pop_Asian       546126 non-null float64\n",
      "Percent_Pop_Other       546126 non-null float64\n",
      "Is_Closed               546126 non-null bool\n",
      "dtypes: bool(2), datetime64[ns](1), float64(18), object(3)\n",
      "memory usage: 92.7+ MB\n"
     ]
    }
   ],
   "source": [
    "df.info()"
   ]
  },
  {
   "cell_type": "code",
   "execution_count": 49,
   "metadata": {},
   "outputs": [
    {
     "data": {
      "text/html": [
       "<div>\n",
       "<table border=\"1\" class=\"dataframe\">\n",
       "  <thead>\n",
       "    <tr style=\"text-align: right;\">\n",
       "      <th></th>\n",
       "      <th>Opened</th>\n",
       "      <th>Category</th>\n",
       "      <th>Supervisor_District</th>\n",
       "      <th>Police_District</th>\n",
       "      <th>Latitude</th>\n",
       "      <th>Longitude</th>\n",
       "      <th>Source</th>\n",
       "      <th>Has_Media_Link</th>\n",
       "      <th>Tract</th>\n",
       "      <th>Poverty</th>\n",
       "      <th>...</th>\n",
       "      <th>Percent_Pop_0_14</th>\n",
       "      <th>Percent_Pop_15_24</th>\n",
       "      <th>Percent_Pop_25_64</th>\n",
       "      <th>Percent_Pop_65_up</th>\n",
       "      <th>Percent_Pop_White</th>\n",
       "      <th>Percent_Pop_Black</th>\n",
       "      <th>Percent_Pop_Hispanic</th>\n",
       "      <th>Percent_Pop_Asian</th>\n",
       "      <th>Percent_Pop_Other</th>\n",
       "      <th>Is_Closed</th>\n",
       "    </tr>\n",
       "  </thead>\n",
       "  <tbody>\n",
       "    <tr>\n",
       "      <th>164044</th>\n",
       "      <td>2016-03-07 09:39:45</td>\n",
       "      <td>Abandoned Vehicle</td>\n",
       "      <td>7.0</td>\n",
       "      <td>INGLESIDE</td>\n",
       "      <td>37.73423</td>\n",
       "      <td>-122.4541</td>\n",
       "      <td>Web</td>\n",
       "      <td>False</td>\n",
       "      <td>307.00</td>\n",
       "      <td>1.0</td>\n",
       "      <td>...</td>\n",
       "      <td>0.167241</td>\n",
       "      <td>0.037914</td>\n",
       "      <td>0.600629</td>\n",
       "      <td>0.194215</td>\n",
       "      <td>0.522703</td>\n",
       "      <td>0.012138</td>\n",
       "      <td>0.120486</td>\n",
       "      <td>0.281283</td>\n",
       "      <td>0.063390</td>\n",
       "      <td>True</td>\n",
       "    </tr>\n",
       "    <tr>\n",
       "      <th>122082</th>\n",
       "      <td>2015-12-17 03:13:32</td>\n",
       "      <td>Street and Sidewalk Cleaning</td>\n",
       "      <td>9.0</td>\n",
       "      <td>MISSION</td>\n",
       "      <td>37.75712</td>\n",
       "      <td>-122.4183</td>\n",
       "      <td>Mobile/Open311</td>\n",
       "      <td>False</td>\n",
       "      <td>208.00</td>\n",
       "      <td>4.2</td>\n",
       "      <td>...</td>\n",
       "      <td>0.073427</td>\n",
       "      <td>0.092339</td>\n",
       "      <td>0.724571</td>\n",
       "      <td>0.109663</td>\n",
       "      <td>0.334711</td>\n",
       "      <td>0.021456</td>\n",
       "      <td>0.421488</td>\n",
       "      <td>0.158137</td>\n",
       "      <td>0.064209</td>\n",
       "      <td>True</td>\n",
       "    </tr>\n",
       "    <tr>\n",
       "      <th>4899</th>\n",
       "      <td>2015-01-14 09:13:50</td>\n",
       "      <td>Graffiti</td>\n",
       "      <td>5.0</td>\n",
       "      <td>PARK</td>\n",
       "      <td>37.76567</td>\n",
       "      <td>-122.4641</td>\n",
       "      <td>Web</td>\n",
       "      <td>True</td>\n",
       "      <td>301.01</td>\n",
       "      <td>0.0</td>\n",
       "      <td>...</td>\n",
       "      <td>0.079822</td>\n",
       "      <td>0.040721</td>\n",
       "      <td>0.792747</td>\n",
       "      <td>0.086710</td>\n",
       "      <td>0.589344</td>\n",
       "      <td>0.023298</td>\n",
       "      <td>0.092585</td>\n",
       "      <td>0.219611</td>\n",
       "      <td>0.075162</td>\n",
       "      <td>True</td>\n",
       "    </tr>\n",
       "    <tr>\n",
       "      <th>68061</th>\n",
       "      <td>2015-07-22 08:45:38</td>\n",
       "      <td>Graffiti</td>\n",
       "      <td>8.0</td>\n",
       "      <td>MISSION</td>\n",
       "      <td>37.76144</td>\n",
       "      <td>-122.4234</td>\n",
       "      <td>Mobile/Open311</td>\n",
       "      <td>False</td>\n",
       "      <td>207.00</td>\n",
       "      <td>4.2</td>\n",
       "      <td>...</td>\n",
       "      <td>0.064423</td>\n",
       "      <td>0.059586</td>\n",
       "      <td>0.814084</td>\n",
       "      <td>0.061908</td>\n",
       "      <td>0.647127</td>\n",
       "      <td>0.008319</td>\n",
       "      <td>0.143161</td>\n",
       "      <td>0.156703</td>\n",
       "      <td>0.044689</td>\n",
       "      <td>True</td>\n",
       "    </tr>\n",
       "    <tr>\n",
       "      <th>401982</th>\n",
       "      <td>2017-05-28 10:14:49</td>\n",
       "      <td>Street and Sidewalk Cleaning</td>\n",
       "      <td>3.0</td>\n",
       "      <td>CENTRAL</td>\n",
       "      <td>37.79837</td>\n",
       "      <td>-122.4080</td>\n",
       "      <td>Phone</td>\n",
       "      <td>True</td>\n",
       "      <td>107.00</td>\n",
       "      <td>20.2</td>\n",
       "      <td>...</td>\n",
       "      <td>0.084770</td>\n",
       "      <td>0.122345</td>\n",
       "      <td>0.566709</td>\n",
       "      <td>0.226175</td>\n",
       "      <td>0.185152</td>\n",
       "      <td>0.000000</td>\n",
       "      <td>0.056090</td>\n",
       "      <td>0.751679</td>\n",
       "      <td>0.007079</td>\n",
       "      <td>True</td>\n",
       "    </tr>\n",
       "  </tbody>\n",
       "</table>\n",
       "<p>5 rows × 24 columns</p>\n",
       "</div>"
      ],
      "text/plain": [
       "                    Opened                      Category  Supervisor_District  \\\n",
       "164044 2016-03-07 09:39:45             Abandoned Vehicle                  7.0   \n",
       "122082 2015-12-17 03:13:32  Street and Sidewalk Cleaning                  9.0   \n",
       "4899   2015-01-14 09:13:50                      Graffiti                  5.0   \n",
       "68061  2015-07-22 08:45:38                      Graffiti                  8.0   \n",
       "401982 2017-05-28 10:14:49  Street and Sidewalk Cleaning                  3.0   \n",
       "\n",
       "       Police_District  Latitude  Longitude          Source Has_Media_Link  \\\n",
       "164044       INGLESIDE  37.73423  -122.4541             Web          False   \n",
       "122082         MISSION  37.75712  -122.4183  Mobile/Open311          False   \n",
       "4899              PARK  37.76567  -122.4641             Web           True   \n",
       "68061          MISSION  37.76144  -122.4234  Mobile/Open311          False   \n",
       "401982         CENTRAL  37.79837  -122.4080           Phone           True   \n",
       "\n",
       "         Tract  Poverty    ...      Percent_Pop_0_14  Percent_Pop_15_24  \\\n",
       "164044  307.00      1.0    ...              0.167241           0.037914   \n",
       "122082  208.00      4.2    ...              0.073427           0.092339   \n",
       "4899    301.01      0.0    ...              0.079822           0.040721   \n",
       "68061   207.00      4.2    ...              0.064423           0.059586   \n",
       "401982  107.00     20.2    ...              0.084770           0.122345   \n",
       "\n",
       "        Percent_Pop_25_64  Percent_Pop_65_up  Percent_Pop_White  \\\n",
       "164044           0.600629           0.194215           0.522703   \n",
       "122082           0.724571           0.109663           0.334711   \n",
       "4899             0.792747           0.086710           0.589344   \n",
       "68061            0.814084           0.061908           0.647127   \n",
       "401982           0.566709           0.226175           0.185152   \n",
       "\n",
       "        Percent_Pop_Black  Percent_Pop_Hispanic  Percent_Pop_Asian  \\\n",
       "164044           0.012138              0.120486           0.281283   \n",
       "122082           0.021456              0.421488           0.158137   \n",
       "4899             0.023298              0.092585           0.219611   \n",
       "68061            0.008319              0.143161           0.156703   \n",
       "401982           0.000000              0.056090           0.751679   \n",
       "\n",
       "        Percent_Pop_Other  Is_Closed  \n",
       "164044           0.063390       True  \n",
       "122082           0.064209       True  \n",
       "4899             0.075162       True  \n",
       "68061            0.044689       True  \n",
       "401982           0.007079       True  \n",
       "\n",
       "[5 rows x 24 columns]"
      ]
     },
     "execution_count": 49,
     "metadata": {},
     "output_type": "execute_result"
    }
   ],
   "source": [
    "df.sample(5)"
   ]
  },
  {
   "cell_type": "markdown",
   "metadata": {},
   "source": [
    "Great! With this, we now have our fully cleaned dataset ready for exploration and analysis. There are a little over 540K requests still in our dataset, about 20% of the original size. We can save this work and dataset, via pickle, to local disk. "
   ]
  },
  {
   "cell_type": "code",
   "execution_count": 50,
   "metadata": {},
   "outputs": [],
   "source": [
    "#Save this model to a pickle file\n",
    "with gzip.GzipFile('cleaned_df.pkl.gz', 'wb') as file:  \n",
    "    joblib.dump(df, file)"
   ]
  },
  {
   "cell_type": "markdown",
   "metadata": {},
   "source": [
    "-----------------------\n",
    "\n",
    "Et fin."
   ]
  },
  {
   "cell_type": "code",
   "execution_count": null,
   "metadata": {},
   "outputs": [],
   "source": []
  }
 ],
 "metadata": {
  "kernelspec": {
   "display_name": "Python 2",
   "language": "python",
   "name": "python2"
  },
  "language_info": {
   "codemirror_mode": {
    "name": "ipython",
    "version": 2
   },
   "file_extension": ".py",
   "mimetype": "text/x-python",
   "name": "python",
   "nbconvert_exporter": "python",
   "pygments_lexer": "ipython2",
   "version": "2.7.13"
  }
 },
 "nbformat": 4,
 "nbformat_minor": 2
}
